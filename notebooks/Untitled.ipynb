{
 "cells": [
  {
   "cell_type": "code",
   "execution_count": 11,
   "id": "imposed-senate",
   "metadata": {},
   "outputs": [],
   "source": [
    "import time\n",
    "import gc\n",
    "import json\n",
    "import glob\n",
    "from typing import Sequence\n",
    "\n",
    "import numpy as np\n",
    "import pandas as pd\n",
    "from joblib import Parallel, delayed\n",
    "from numpy.random import SeedSequence\n",
    "from sklearn.model_selection import KFold\n",
    "from sklearn import metrics\n",
    "from reservoirpy import ESN\n",
    "from reservoirpy.mat_gen import generate_input_weights, generate_internal_weights\n",
    "from reservoirpy.datasets import mackey_glass\n",
    "\n",
    "import sys\n",
    "sys.path.insert(0, \"..\")\n",
    "\n",
    "from extract import fetch"
   ]
  },
  {
   "cell_type": "code",
   "execution_count": 2,
   "outputs": [],
   "source": [
    "dataset = fetch(\"marron1\", path=\"../data\")"
   ],
   "metadata": {
    "collapsed": false,
    "pycharm": {
     "name": "#%%\n"
    }
   }
  },
  {
   "cell_type": "code",
   "execution_count": 83,
   "outputs": [],
   "source": [
    "df = dataset.df\n",
    "df = df[df[\"wave\"] == list(df.groupby(\"wave\").groups.keys())[0]].copy()\n",
    "df = df[df[\"syll\"] != \"SIL\"].copy()\n",
    "df = df.drop([\"repertoire_file\"], axis=1).reset_index(drop=True)"
   ],
   "metadata": {
    "collapsed": false,
    "pycharm": {
     "name": "#%%\n"
    }
   }
  },
  {
   "cell_type": "code",
   "execution_count": 84,
   "outputs": [
    {
     "data": {
      "text/plain": "                                    wave      start        end  syll  \\\n0   100_marron1_May_24_2016_62101389.wav   0.350000   0.664000  call   \n1   100_marron1_May_24_2016_62101389.wav   1.359000   2.412000     Z   \n2   100_marron1_May_24_2016_62101389.wav   2.488000   2.773000     T   \n3   100_marron1_May_24_2016_62101389.wav   2.969000   4.398000     U   \n4   100_marron1_May_24_2016_62101389.wav   4.398000   4.695000    J2   \n5   100_marron1_May_24_2016_62101389.wav   4.835000   5.697977    B1   \n6   100_marron1_May_24_2016_62101389.wav   5.697977   6.770899    B2   \n7   100_marron1_May_24_2016_62101389.wav   6.768000   6.925000     R   \n8   100_marron1_May_24_2016_62101389.wav   7.059000   7.104000    J1   \n9   100_marron1_May_24_2016_62101389.wav   7.104000   8.009000    J1   \n10  100_marron1_May_24_2016_62101389.wav   8.009000   8.432000    J2   \n11  100_marron1_May_24_2016_62101389.wav   8.617000   9.463000    B1   \n12  100_marron1_May_24_2016_62101389.wav   9.463000  10.241791    B2   \n13  100_marron1_May_24_2016_62101389.wav  10.241791  10.782454     Q   \n14  100_marron1_May_24_2016_62101389.wav  10.776851  11.469000     O   \n15  100_marron1_May_24_2016_62101389.wav  11.530000  12.281000    J1   \n16  100_marron1_May_24_2016_62101389.wav  12.281000  13.603000     L   \n17  100_marron1_May_24_2016_62101389.wav  13.645000  15.382000     N   \n18  100_marron1_May_24_2016_62101389.wav  15.362686  15.530596     S   \n19  100_marron1_May_24_2016_62101389.wav  15.562000  17.088000     M   \n20  100_marron1_May_24_2016_62101389.wav  17.088000  18.520000     D   \n21  100_marron1_May_24_2016_62101389.wav  18.581000  18.752338     I   \n22  100_marron1_May_24_2016_62101389.wav  18.831000  19.660000     A   \n23  100_marron1_May_24_2016_62101389.wav  19.660000  19.730000     A   \n24  100_marron1_May_24_2016_62101389.wav  19.744000  19.907000     O   \n25  100_marron1_May_24_2016_62101389.wav  19.974000  20.304000     P   \n26  100_marron1_May_24_2016_62101389.wav  20.408000  20.688000     K   \n27  100_marron1_May_24_2016_62101389.wav  20.688000  21.007000    K2   \n28  100_marron1_May_24_2016_62101389.wav  21.049000  22.643000     L   \n29  100_marron1_May_24_2016_62101389.wav  22.663000  24.879000     N   \n30  100_marron1_May_24_2016_62101389.wav  24.879000  25.039000     S   \n31  100_marron1_May_24_2016_62101389.wav  25.064000  26.145000     M   \n32  100_marron1_May_24_2016_62101389.wav  26.145000  27.591000     D   \n33  100_marron1_May_24_2016_62101389.wav  27.652000  27.834000     I   \n34  100_marron1_May_24_2016_62101389.wav  27.958000  28.947000     A   \n35  100_marron1_May_24_2016_62101389.wav  29.000000  29.199000     O   \n36  100_marron1_May_24_2016_62101389.wav  29.257000  29.591000     P   \n37  100_marron1_May_24_2016_62101389.wav  29.703000  29.927000     K   \n38  100_marron1_May_24_2016_62101389.wav  29.926983  31.520960     V   \n39  100_marron1_May_24_2016_62101389.wav  31.535000  31.697000     O   \n40  100_marron1_May_24_2016_62101389.wav  31.838000  32.465020    J1   \n41  100_marron1_May_24_2016_62101389.wav  32.468000  32.538000    J2   \n42  100_marron1_May_24_2016_62101389.wav  32.636000  33.546000    B1   \n43  100_marron1_May_24_2016_62101389.wav  33.546000  34.521000    B2   \n44  100_marron1_May_24_2016_62101389.wav  34.566000  36.762314     N   \n45  100_marron1_May_24_2016_62101389.wav  36.802000  37.712000     A   \n46  100_marron1_May_24_2016_62101389.wav  37.712000  37.779000     A   \n\n      start_d  \n0    1.359000  \n1    2.488000  \n2    2.969000  \n3    4.398000  \n4    4.835000  \n5    5.697977  \n6    6.768000  \n7    7.059000  \n8    7.104000  \n9    8.009000  \n10   8.617000  \n11   9.463000  \n12  10.241791  \n13  10.776851  \n14  11.530000  \n15  12.281000  \n16  13.645000  \n17  15.362686  \n18  15.562000  \n19  17.088000  \n20  18.581000  \n21  18.831000  \n22  19.660000  \n23  19.744000  \n24  19.974000  \n25  20.408000  \n26  20.688000  \n27  21.049000  \n28  22.663000  \n29  24.879000  \n30  25.064000  \n31  26.145000  \n32  27.652000  \n33  27.958000  \n34  29.000000  \n35  29.257000  \n36  29.703000  \n37  29.926983  \n38  31.535000  \n39  31.838000  \n40  32.468000  \n41  32.636000  \n42  33.546000  \n43  34.566000  \n44  36.802000  \n45  37.712000  \n46        NaN  ",
      "text/html": "<div>\n<style scoped>\n    .dataframe tbody tr th:only-of-type {\n        vertical-align: middle;\n    }\n\n    .dataframe tbody tr th {\n        vertical-align: top;\n    }\n\n    .dataframe thead th {\n        text-align: right;\n    }\n</style>\n<table border=\"1\" class=\"dataframe\">\n  <thead>\n    <tr style=\"text-align: right;\">\n      <th></th>\n      <th>wave</th>\n      <th>start</th>\n      <th>end</th>\n      <th>syll</th>\n      <th>start_d</th>\n    </tr>\n  </thead>\n  <tbody>\n    <tr>\n      <th>0</th>\n      <td>100_marron1_May_24_2016_62101389.wav</td>\n      <td>0.350000</td>\n      <td>0.664000</td>\n      <td>call</td>\n      <td>1.359000</td>\n    </tr>\n    <tr>\n      <th>1</th>\n      <td>100_marron1_May_24_2016_62101389.wav</td>\n      <td>1.359000</td>\n      <td>2.412000</td>\n      <td>Z</td>\n      <td>2.488000</td>\n    </tr>\n    <tr>\n      <th>2</th>\n      <td>100_marron1_May_24_2016_62101389.wav</td>\n      <td>2.488000</td>\n      <td>2.773000</td>\n      <td>T</td>\n      <td>2.969000</td>\n    </tr>\n    <tr>\n      <th>3</th>\n      <td>100_marron1_May_24_2016_62101389.wav</td>\n      <td>2.969000</td>\n      <td>4.398000</td>\n      <td>U</td>\n      <td>4.398000</td>\n    </tr>\n    <tr>\n      <th>4</th>\n      <td>100_marron1_May_24_2016_62101389.wav</td>\n      <td>4.398000</td>\n      <td>4.695000</td>\n      <td>J2</td>\n      <td>4.835000</td>\n    </tr>\n    <tr>\n      <th>5</th>\n      <td>100_marron1_May_24_2016_62101389.wav</td>\n      <td>4.835000</td>\n      <td>5.697977</td>\n      <td>B1</td>\n      <td>5.697977</td>\n    </tr>\n    <tr>\n      <th>6</th>\n      <td>100_marron1_May_24_2016_62101389.wav</td>\n      <td>5.697977</td>\n      <td>6.770899</td>\n      <td>B2</td>\n      <td>6.768000</td>\n    </tr>\n    <tr>\n      <th>7</th>\n      <td>100_marron1_May_24_2016_62101389.wav</td>\n      <td>6.768000</td>\n      <td>6.925000</td>\n      <td>R</td>\n      <td>7.059000</td>\n    </tr>\n    <tr>\n      <th>8</th>\n      <td>100_marron1_May_24_2016_62101389.wav</td>\n      <td>7.059000</td>\n      <td>7.104000</td>\n      <td>J1</td>\n      <td>7.104000</td>\n    </tr>\n    <tr>\n      <th>9</th>\n      <td>100_marron1_May_24_2016_62101389.wav</td>\n      <td>7.104000</td>\n      <td>8.009000</td>\n      <td>J1</td>\n      <td>8.009000</td>\n    </tr>\n    <tr>\n      <th>10</th>\n      <td>100_marron1_May_24_2016_62101389.wav</td>\n      <td>8.009000</td>\n      <td>8.432000</td>\n      <td>J2</td>\n      <td>8.617000</td>\n    </tr>\n    <tr>\n      <th>11</th>\n      <td>100_marron1_May_24_2016_62101389.wav</td>\n      <td>8.617000</td>\n      <td>9.463000</td>\n      <td>B1</td>\n      <td>9.463000</td>\n    </tr>\n    <tr>\n      <th>12</th>\n      <td>100_marron1_May_24_2016_62101389.wav</td>\n      <td>9.463000</td>\n      <td>10.241791</td>\n      <td>B2</td>\n      <td>10.241791</td>\n    </tr>\n    <tr>\n      <th>13</th>\n      <td>100_marron1_May_24_2016_62101389.wav</td>\n      <td>10.241791</td>\n      <td>10.782454</td>\n      <td>Q</td>\n      <td>10.776851</td>\n    </tr>\n    <tr>\n      <th>14</th>\n      <td>100_marron1_May_24_2016_62101389.wav</td>\n      <td>10.776851</td>\n      <td>11.469000</td>\n      <td>O</td>\n      <td>11.530000</td>\n    </tr>\n    <tr>\n      <th>15</th>\n      <td>100_marron1_May_24_2016_62101389.wav</td>\n      <td>11.530000</td>\n      <td>12.281000</td>\n      <td>J1</td>\n      <td>12.281000</td>\n    </tr>\n    <tr>\n      <th>16</th>\n      <td>100_marron1_May_24_2016_62101389.wav</td>\n      <td>12.281000</td>\n      <td>13.603000</td>\n      <td>L</td>\n      <td>13.645000</td>\n    </tr>\n    <tr>\n      <th>17</th>\n      <td>100_marron1_May_24_2016_62101389.wav</td>\n      <td>13.645000</td>\n      <td>15.382000</td>\n      <td>N</td>\n      <td>15.362686</td>\n    </tr>\n    <tr>\n      <th>18</th>\n      <td>100_marron1_May_24_2016_62101389.wav</td>\n      <td>15.362686</td>\n      <td>15.530596</td>\n      <td>S</td>\n      <td>15.562000</td>\n    </tr>\n    <tr>\n      <th>19</th>\n      <td>100_marron1_May_24_2016_62101389.wav</td>\n      <td>15.562000</td>\n      <td>17.088000</td>\n      <td>M</td>\n      <td>17.088000</td>\n    </tr>\n    <tr>\n      <th>20</th>\n      <td>100_marron1_May_24_2016_62101389.wav</td>\n      <td>17.088000</td>\n      <td>18.520000</td>\n      <td>D</td>\n      <td>18.581000</td>\n    </tr>\n    <tr>\n      <th>21</th>\n      <td>100_marron1_May_24_2016_62101389.wav</td>\n      <td>18.581000</td>\n      <td>18.752338</td>\n      <td>I</td>\n      <td>18.831000</td>\n    </tr>\n    <tr>\n      <th>22</th>\n      <td>100_marron1_May_24_2016_62101389.wav</td>\n      <td>18.831000</td>\n      <td>19.660000</td>\n      <td>A</td>\n      <td>19.660000</td>\n    </tr>\n    <tr>\n      <th>23</th>\n      <td>100_marron1_May_24_2016_62101389.wav</td>\n      <td>19.660000</td>\n      <td>19.730000</td>\n      <td>A</td>\n      <td>19.744000</td>\n    </tr>\n    <tr>\n      <th>24</th>\n      <td>100_marron1_May_24_2016_62101389.wav</td>\n      <td>19.744000</td>\n      <td>19.907000</td>\n      <td>O</td>\n      <td>19.974000</td>\n    </tr>\n    <tr>\n      <th>25</th>\n      <td>100_marron1_May_24_2016_62101389.wav</td>\n      <td>19.974000</td>\n      <td>20.304000</td>\n      <td>P</td>\n      <td>20.408000</td>\n    </tr>\n    <tr>\n      <th>26</th>\n      <td>100_marron1_May_24_2016_62101389.wav</td>\n      <td>20.408000</td>\n      <td>20.688000</td>\n      <td>K</td>\n      <td>20.688000</td>\n    </tr>\n    <tr>\n      <th>27</th>\n      <td>100_marron1_May_24_2016_62101389.wav</td>\n      <td>20.688000</td>\n      <td>21.007000</td>\n      <td>K2</td>\n      <td>21.049000</td>\n    </tr>\n    <tr>\n      <th>28</th>\n      <td>100_marron1_May_24_2016_62101389.wav</td>\n      <td>21.049000</td>\n      <td>22.643000</td>\n      <td>L</td>\n      <td>22.663000</td>\n    </tr>\n    <tr>\n      <th>29</th>\n      <td>100_marron1_May_24_2016_62101389.wav</td>\n      <td>22.663000</td>\n      <td>24.879000</td>\n      <td>N</td>\n      <td>24.879000</td>\n    </tr>\n    <tr>\n      <th>30</th>\n      <td>100_marron1_May_24_2016_62101389.wav</td>\n      <td>24.879000</td>\n      <td>25.039000</td>\n      <td>S</td>\n      <td>25.064000</td>\n    </tr>\n    <tr>\n      <th>31</th>\n      <td>100_marron1_May_24_2016_62101389.wav</td>\n      <td>25.064000</td>\n      <td>26.145000</td>\n      <td>M</td>\n      <td>26.145000</td>\n    </tr>\n    <tr>\n      <th>32</th>\n      <td>100_marron1_May_24_2016_62101389.wav</td>\n      <td>26.145000</td>\n      <td>27.591000</td>\n      <td>D</td>\n      <td>27.652000</td>\n    </tr>\n    <tr>\n      <th>33</th>\n      <td>100_marron1_May_24_2016_62101389.wav</td>\n      <td>27.652000</td>\n      <td>27.834000</td>\n      <td>I</td>\n      <td>27.958000</td>\n    </tr>\n    <tr>\n      <th>34</th>\n      <td>100_marron1_May_24_2016_62101389.wav</td>\n      <td>27.958000</td>\n      <td>28.947000</td>\n      <td>A</td>\n      <td>29.000000</td>\n    </tr>\n    <tr>\n      <th>35</th>\n      <td>100_marron1_May_24_2016_62101389.wav</td>\n      <td>29.000000</td>\n      <td>29.199000</td>\n      <td>O</td>\n      <td>29.257000</td>\n    </tr>\n    <tr>\n      <th>36</th>\n      <td>100_marron1_May_24_2016_62101389.wav</td>\n      <td>29.257000</td>\n      <td>29.591000</td>\n      <td>P</td>\n      <td>29.703000</td>\n    </tr>\n    <tr>\n      <th>37</th>\n      <td>100_marron1_May_24_2016_62101389.wav</td>\n      <td>29.703000</td>\n      <td>29.927000</td>\n      <td>K</td>\n      <td>29.926983</td>\n    </tr>\n    <tr>\n      <th>38</th>\n      <td>100_marron1_May_24_2016_62101389.wav</td>\n      <td>29.926983</td>\n      <td>31.520960</td>\n      <td>V</td>\n      <td>31.535000</td>\n    </tr>\n    <tr>\n      <th>39</th>\n      <td>100_marron1_May_24_2016_62101389.wav</td>\n      <td>31.535000</td>\n      <td>31.697000</td>\n      <td>O</td>\n      <td>31.838000</td>\n    </tr>\n    <tr>\n      <th>40</th>\n      <td>100_marron1_May_24_2016_62101389.wav</td>\n      <td>31.838000</td>\n      <td>32.465020</td>\n      <td>J1</td>\n      <td>32.468000</td>\n    </tr>\n    <tr>\n      <th>41</th>\n      <td>100_marron1_May_24_2016_62101389.wav</td>\n      <td>32.468000</td>\n      <td>32.538000</td>\n      <td>J2</td>\n      <td>32.636000</td>\n    </tr>\n    <tr>\n      <th>42</th>\n      <td>100_marron1_May_24_2016_62101389.wav</td>\n      <td>32.636000</td>\n      <td>33.546000</td>\n      <td>B1</td>\n      <td>33.546000</td>\n    </tr>\n    <tr>\n      <th>43</th>\n      <td>100_marron1_May_24_2016_62101389.wav</td>\n      <td>33.546000</td>\n      <td>34.521000</td>\n      <td>B2</td>\n      <td>34.566000</td>\n    </tr>\n    <tr>\n      <th>44</th>\n      <td>100_marron1_May_24_2016_62101389.wav</td>\n      <td>34.566000</td>\n      <td>36.762314</td>\n      <td>N</td>\n      <td>36.802000</td>\n    </tr>\n    <tr>\n      <th>45</th>\n      <td>100_marron1_May_24_2016_62101389.wav</td>\n      <td>36.802000</td>\n      <td>37.712000</td>\n      <td>A</td>\n      <td>37.712000</td>\n    </tr>\n    <tr>\n      <th>46</th>\n      <td>100_marron1_May_24_2016_62101389.wav</td>\n      <td>37.712000</td>\n      <td>37.779000</td>\n      <td>A</td>\n      <td>NaN</td>\n    </tr>\n  </tbody>\n</table>\n</div>"
     },
     "execution_count": 84,
     "metadata": {},
     "output_type": "execute_result"
    }
   ],
   "source": [
    "df[\"start_d\"] = df[\"start\"].shift(-1)\n",
    "df"
   ],
   "metadata": {
    "collapsed": false,
    "pycharm": {
     "name": "#%%\n"
    }
   }
  },
  {
   "cell_type": "code",
   "execution_count": 85,
   "outputs": [
    {
     "data": {
      "text/plain": "                                    wave      start        end  syll  \\\n0   100_marron1_May_24_2016_62101389.wav   0.350000   0.664000  call   \n1   100_marron1_May_24_2016_62101389.wav   1.359000   2.412000     Z   \n2   100_marron1_May_24_2016_62101389.wav   2.488000   2.773000     T   \n3   100_marron1_May_24_2016_62101389.wav   2.969000   4.398000     U   \n4   100_marron1_May_24_2016_62101389.wav   4.398000   4.695000    J2   \n5   100_marron1_May_24_2016_62101389.wav   4.835000   5.697977    B1   \n6   100_marron1_May_24_2016_62101389.wav   5.697977   6.770899    B2   \n7   100_marron1_May_24_2016_62101389.wav   6.768000   6.925000     R   \n8   100_marron1_May_24_2016_62101389.wav   7.059000   7.104000    J1   \n9   100_marron1_May_24_2016_62101389.wav   7.104000   8.009000    J1   \n10  100_marron1_May_24_2016_62101389.wav   8.009000   8.432000    J2   \n11  100_marron1_May_24_2016_62101389.wav   8.617000   9.463000    B1   \n12  100_marron1_May_24_2016_62101389.wav   9.463000  10.241791    B2   \n13  100_marron1_May_24_2016_62101389.wav  10.241791  10.782454     Q   \n14  100_marron1_May_24_2016_62101389.wav  10.776851  11.469000     O   \n15  100_marron1_May_24_2016_62101389.wav  11.530000  12.281000    J1   \n16  100_marron1_May_24_2016_62101389.wav  12.281000  13.603000     L   \n17  100_marron1_May_24_2016_62101389.wav  13.645000  15.382000     N   \n18  100_marron1_May_24_2016_62101389.wav  15.362686  15.530596     S   \n19  100_marron1_May_24_2016_62101389.wav  15.562000  17.088000     M   \n20  100_marron1_May_24_2016_62101389.wav  17.088000  18.520000     D   \n21  100_marron1_May_24_2016_62101389.wav  18.581000  18.752338     I   \n22  100_marron1_May_24_2016_62101389.wav  18.831000  19.660000     A   \n23  100_marron1_May_24_2016_62101389.wav  19.660000  19.730000     A   \n24  100_marron1_May_24_2016_62101389.wav  19.744000  19.907000     O   \n25  100_marron1_May_24_2016_62101389.wav  19.974000  20.304000     P   \n26  100_marron1_May_24_2016_62101389.wav  20.408000  20.688000     K   \n27  100_marron1_May_24_2016_62101389.wav  20.688000  21.007000    K2   \n28  100_marron1_May_24_2016_62101389.wav  21.049000  22.643000     L   \n29  100_marron1_May_24_2016_62101389.wav  22.663000  24.879000     N   \n30  100_marron1_May_24_2016_62101389.wav  24.879000  25.039000     S   \n31  100_marron1_May_24_2016_62101389.wav  25.064000  26.145000     M   \n32  100_marron1_May_24_2016_62101389.wav  26.145000  27.591000     D   \n33  100_marron1_May_24_2016_62101389.wav  27.652000  27.834000     I   \n34  100_marron1_May_24_2016_62101389.wav  27.958000  28.947000     A   \n35  100_marron1_May_24_2016_62101389.wav  29.000000  29.199000     O   \n36  100_marron1_May_24_2016_62101389.wav  29.257000  29.591000     P   \n37  100_marron1_May_24_2016_62101389.wav  29.703000  29.927000     K   \n38  100_marron1_May_24_2016_62101389.wav  29.926983  31.520960     V   \n39  100_marron1_May_24_2016_62101389.wav  31.535000  31.697000     O   \n40  100_marron1_May_24_2016_62101389.wav  31.838000  32.465020    J1   \n41  100_marron1_May_24_2016_62101389.wav  32.468000  32.538000    J2   \n42  100_marron1_May_24_2016_62101389.wav  32.636000  33.546000    B1   \n43  100_marron1_May_24_2016_62101389.wav  33.546000  34.521000    B2   \n44  100_marron1_May_24_2016_62101389.wav  34.566000  36.762314     N   \n45  100_marron1_May_24_2016_62101389.wav  36.802000  37.712000     A   \n46  100_marron1_May_24_2016_62101389.wav  37.712000  37.779000     A   \n\n      start_d      diff  \n0    1.359000  0.695000  \n1    2.488000  0.076000  \n2    2.969000  0.196000  \n3    4.398000  0.000000  \n4    4.835000  0.140000  \n5    5.697977  0.000000  \n6    6.768000 -0.002899  \n7    7.059000  0.134000  \n8    7.104000  0.000000  \n9    8.009000  0.000000  \n10   8.617000  0.185000  \n11   9.463000  0.000000  \n12  10.241791  0.000000  \n13  10.776851 -0.005603  \n14  11.530000  0.061000  \n15  12.281000  0.000000  \n16  13.645000  0.042000  \n17  15.362686 -0.019314  \n18  15.562000  0.031404  \n19  17.088000  0.000000  \n20  18.581000  0.061000  \n21  18.831000  0.078662  \n22  19.660000  0.000000  \n23  19.744000  0.014000  \n24  19.974000  0.067000  \n25  20.408000  0.104000  \n26  20.688000  0.000000  \n27  21.049000  0.042000  \n28  22.663000  0.020000  \n29  24.879000  0.000000  \n30  25.064000  0.025000  \n31  26.145000  0.000000  \n32  27.652000  0.061000  \n33  27.958000  0.124000  \n34  29.000000  0.053000  \n35  29.257000  0.058000  \n36  29.703000  0.112000  \n37  29.926983 -0.000017  \n38  31.535000  0.014040  \n39  31.838000  0.141000  \n40  32.468000  0.002980  \n41  32.636000  0.098000  \n42  33.546000  0.000000  \n43  34.566000  0.045000  \n44  36.802000  0.039686  \n45  37.712000  0.000000  \n46        NaN       NaN  ",
      "text/html": "<div>\n<style scoped>\n    .dataframe tbody tr th:only-of-type {\n        vertical-align: middle;\n    }\n\n    .dataframe tbody tr th {\n        vertical-align: top;\n    }\n\n    .dataframe thead th {\n        text-align: right;\n    }\n</style>\n<table border=\"1\" class=\"dataframe\">\n  <thead>\n    <tr style=\"text-align: right;\">\n      <th></th>\n      <th>wave</th>\n      <th>start</th>\n      <th>end</th>\n      <th>syll</th>\n      <th>start_d</th>\n      <th>diff</th>\n    </tr>\n  </thead>\n  <tbody>\n    <tr>\n      <th>0</th>\n      <td>100_marron1_May_24_2016_62101389.wav</td>\n      <td>0.350000</td>\n      <td>0.664000</td>\n      <td>call</td>\n      <td>1.359000</td>\n      <td>0.695000</td>\n    </tr>\n    <tr>\n      <th>1</th>\n      <td>100_marron1_May_24_2016_62101389.wav</td>\n      <td>1.359000</td>\n      <td>2.412000</td>\n      <td>Z</td>\n      <td>2.488000</td>\n      <td>0.076000</td>\n    </tr>\n    <tr>\n      <th>2</th>\n      <td>100_marron1_May_24_2016_62101389.wav</td>\n      <td>2.488000</td>\n      <td>2.773000</td>\n      <td>T</td>\n      <td>2.969000</td>\n      <td>0.196000</td>\n    </tr>\n    <tr>\n      <th>3</th>\n      <td>100_marron1_May_24_2016_62101389.wav</td>\n      <td>2.969000</td>\n      <td>4.398000</td>\n      <td>U</td>\n      <td>4.398000</td>\n      <td>0.000000</td>\n    </tr>\n    <tr>\n      <th>4</th>\n      <td>100_marron1_May_24_2016_62101389.wav</td>\n      <td>4.398000</td>\n      <td>4.695000</td>\n      <td>J2</td>\n      <td>4.835000</td>\n      <td>0.140000</td>\n    </tr>\n    <tr>\n      <th>5</th>\n      <td>100_marron1_May_24_2016_62101389.wav</td>\n      <td>4.835000</td>\n      <td>5.697977</td>\n      <td>B1</td>\n      <td>5.697977</td>\n      <td>0.000000</td>\n    </tr>\n    <tr>\n      <th>6</th>\n      <td>100_marron1_May_24_2016_62101389.wav</td>\n      <td>5.697977</td>\n      <td>6.770899</td>\n      <td>B2</td>\n      <td>6.768000</td>\n      <td>-0.002899</td>\n    </tr>\n    <tr>\n      <th>7</th>\n      <td>100_marron1_May_24_2016_62101389.wav</td>\n      <td>6.768000</td>\n      <td>6.925000</td>\n      <td>R</td>\n      <td>7.059000</td>\n      <td>0.134000</td>\n    </tr>\n    <tr>\n      <th>8</th>\n      <td>100_marron1_May_24_2016_62101389.wav</td>\n      <td>7.059000</td>\n      <td>7.104000</td>\n      <td>J1</td>\n      <td>7.104000</td>\n      <td>0.000000</td>\n    </tr>\n    <tr>\n      <th>9</th>\n      <td>100_marron1_May_24_2016_62101389.wav</td>\n      <td>7.104000</td>\n      <td>8.009000</td>\n      <td>J1</td>\n      <td>8.009000</td>\n      <td>0.000000</td>\n    </tr>\n    <tr>\n      <th>10</th>\n      <td>100_marron1_May_24_2016_62101389.wav</td>\n      <td>8.009000</td>\n      <td>8.432000</td>\n      <td>J2</td>\n      <td>8.617000</td>\n      <td>0.185000</td>\n    </tr>\n    <tr>\n      <th>11</th>\n      <td>100_marron1_May_24_2016_62101389.wav</td>\n      <td>8.617000</td>\n      <td>9.463000</td>\n      <td>B1</td>\n      <td>9.463000</td>\n      <td>0.000000</td>\n    </tr>\n    <tr>\n      <th>12</th>\n      <td>100_marron1_May_24_2016_62101389.wav</td>\n      <td>9.463000</td>\n      <td>10.241791</td>\n      <td>B2</td>\n      <td>10.241791</td>\n      <td>0.000000</td>\n    </tr>\n    <tr>\n      <th>13</th>\n      <td>100_marron1_May_24_2016_62101389.wav</td>\n      <td>10.241791</td>\n      <td>10.782454</td>\n      <td>Q</td>\n      <td>10.776851</td>\n      <td>-0.005603</td>\n    </tr>\n    <tr>\n      <th>14</th>\n      <td>100_marron1_May_24_2016_62101389.wav</td>\n      <td>10.776851</td>\n      <td>11.469000</td>\n      <td>O</td>\n      <td>11.530000</td>\n      <td>0.061000</td>\n    </tr>\n    <tr>\n      <th>15</th>\n      <td>100_marron1_May_24_2016_62101389.wav</td>\n      <td>11.530000</td>\n      <td>12.281000</td>\n      <td>J1</td>\n      <td>12.281000</td>\n      <td>0.000000</td>\n    </tr>\n    <tr>\n      <th>16</th>\n      <td>100_marron1_May_24_2016_62101389.wav</td>\n      <td>12.281000</td>\n      <td>13.603000</td>\n      <td>L</td>\n      <td>13.645000</td>\n      <td>0.042000</td>\n    </tr>\n    <tr>\n      <th>17</th>\n      <td>100_marron1_May_24_2016_62101389.wav</td>\n      <td>13.645000</td>\n      <td>15.382000</td>\n      <td>N</td>\n      <td>15.362686</td>\n      <td>-0.019314</td>\n    </tr>\n    <tr>\n      <th>18</th>\n      <td>100_marron1_May_24_2016_62101389.wav</td>\n      <td>15.362686</td>\n      <td>15.530596</td>\n      <td>S</td>\n      <td>15.562000</td>\n      <td>0.031404</td>\n    </tr>\n    <tr>\n      <th>19</th>\n      <td>100_marron1_May_24_2016_62101389.wav</td>\n      <td>15.562000</td>\n      <td>17.088000</td>\n      <td>M</td>\n      <td>17.088000</td>\n      <td>0.000000</td>\n    </tr>\n    <tr>\n      <th>20</th>\n      <td>100_marron1_May_24_2016_62101389.wav</td>\n      <td>17.088000</td>\n      <td>18.520000</td>\n      <td>D</td>\n      <td>18.581000</td>\n      <td>0.061000</td>\n    </tr>\n    <tr>\n      <th>21</th>\n      <td>100_marron1_May_24_2016_62101389.wav</td>\n      <td>18.581000</td>\n      <td>18.752338</td>\n      <td>I</td>\n      <td>18.831000</td>\n      <td>0.078662</td>\n    </tr>\n    <tr>\n      <th>22</th>\n      <td>100_marron1_May_24_2016_62101389.wav</td>\n      <td>18.831000</td>\n      <td>19.660000</td>\n      <td>A</td>\n      <td>19.660000</td>\n      <td>0.000000</td>\n    </tr>\n    <tr>\n      <th>23</th>\n      <td>100_marron1_May_24_2016_62101389.wav</td>\n      <td>19.660000</td>\n      <td>19.730000</td>\n      <td>A</td>\n      <td>19.744000</td>\n      <td>0.014000</td>\n    </tr>\n    <tr>\n      <th>24</th>\n      <td>100_marron1_May_24_2016_62101389.wav</td>\n      <td>19.744000</td>\n      <td>19.907000</td>\n      <td>O</td>\n      <td>19.974000</td>\n      <td>0.067000</td>\n    </tr>\n    <tr>\n      <th>25</th>\n      <td>100_marron1_May_24_2016_62101389.wav</td>\n      <td>19.974000</td>\n      <td>20.304000</td>\n      <td>P</td>\n      <td>20.408000</td>\n      <td>0.104000</td>\n    </tr>\n    <tr>\n      <th>26</th>\n      <td>100_marron1_May_24_2016_62101389.wav</td>\n      <td>20.408000</td>\n      <td>20.688000</td>\n      <td>K</td>\n      <td>20.688000</td>\n      <td>0.000000</td>\n    </tr>\n    <tr>\n      <th>27</th>\n      <td>100_marron1_May_24_2016_62101389.wav</td>\n      <td>20.688000</td>\n      <td>21.007000</td>\n      <td>K2</td>\n      <td>21.049000</td>\n      <td>0.042000</td>\n    </tr>\n    <tr>\n      <th>28</th>\n      <td>100_marron1_May_24_2016_62101389.wav</td>\n      <td>21.049000</td>\n      <td>22.643000</td>\n      <td>L</td>\n      <td>22.663000</td>\n      <td>0.020000</td>\n    </tr>\n    <tr>\n      <th>29</th>\n      <td>100_marron1_May_24_2016_62101389.wav</td>\n      <td>22.663000</td>\n      <td>24.879000</td>\n      <td>N</td>\n      <td>24.879000</td>\n      <td>0.000000</td>\n    </tr>\n    <tr>\n      <th>30</th>\n      <td>100_marron1_May_24_2016_62101389.wav</td>\n      <td>24.879000</td>\n      <td>25.039000</td>\n      <td>S</td>\n      <td>25.064000</td>\n      <td>0.025000</td>\n    </tr>\n    <tr>\n      <th>31</th>\n      <td>100_marron1_May_24_2016_62101389.wav</td>\n      <td>25.064000</td>\n      <td>26.145000</td>\n      <td>M</td>\n      <td>26.145000</td>\n      <td>0.000000</td>\n    </tr>\n    <tr>\n      <th>32</th>\n      <td>100_marron1_May_24_2016_62101389.wav</td>\n      <td>26.145000</td>\n      <td>27.591000</td>\n      <td>D</td>\n      <td>27.652000</td>\n      <td>0.061000</td>\n    </tr>\n    <tr>\n      <th>33</th>\n      <td>100_marron1_May_24_2016_62101389.wav</td>\n      <td>27.652000</td>\n      <td>27.834000</td>\n      <td>I</td>\n      <td>27.958000</td>\n      <td>0.124000</td>\n    </tr>\n    <tr>\n      <th>34</th>\n      <td>100_marron1_May_24_2016_62101389.wav</td>\n      <td>27.958000</td>\n      <td>28.947000</td>\n      <td>A</td>\n      <td>29.000000</td>\n      <td>0.053000</td>\n    </tr>\n    <tr>\n      <th>35</th>\n      <td>100_marron1_May_24_2016_62101389.wav</td>\n      <td>29.000000</td>\n      <td>29.199000</td>\n      <td>O</td>\n      <td>29.257000</td>\n      <td>0.058000</td>\n    </tr>\n    <tr>\n      <th>36</th>\n      <td>100_marron1_May_24_2016_62101389.wav</td>\n      <td>29.257000</td>\n      <td>29.591000</td>\n      <td>P</td>\n      <td>29.703000</td>\n      <td>0.112000</td>\n    </tr>\n    <tr>\n      <th>37</th>\n      <td>100_marron1_May_24_2016_62101389.wav</td>\n      <td>29.703000</td>\n      <td>29.927000</td>\n      <td>K</td>\n      <td>29.926983</td>\n      <td>-0.000017</td>\n    </tr>\n    <tr>\n      <th>38</th>\n      <td>100_marron1_May_24_2016_62101389.wav</td>\n      <td>29.926983</td>\n      <td>31.520960</td>\n      <td>V</td>\n      <td>31.535000</td>\n      <td>0.014040</td>\n    </tr>\n    <tr>\n      <th>39</th>\n      <td>100_marron1_May_24_2016_62101389.wav</td>\n      <td>31.535000</td>\n      <td>31.697000</td>\n      <td>O</td>\n      <td>31.838000</td>\n      <td>0.141000</td>\n    </tr>\n    <tr>\n      <th>40</th>\n      <td>100_marron1_May_24_2016_62101389.wav</td>\n      <td>31.838000</td>\n      <td>32.465020</td>\n      <td>J1</td>\n      <td>32.468000</td>\n      <td>0.002980</td>\n    </tr>\n    <tr>\n      <th>41</th>\n      <td>100_marron1_May_24_2016_62101389.wav</td>\n      <td>32.468000</td>\n      <td>32.538000</td>\n      <td>J2</td>\n      <td>32.636000</td>\n      <td>0.098000</td>\n    </tr>\n    <tr>\n      <th>42</th>\n      <td>100_marron1_May_24_2016_62101389.wav</td>\n      <td>32.636000</td>\n      <td>33.546000</td>\n      <td>B1</td>\n      <td>33.546000</td>\n      <td>0.000000</td>\n    </tr>\n    <tr>\n      <th>43</th>\n      <td>100_marron1_May_24_2016_62101389.wav</td>\n      <td>33.546000</td>\n      <td>34.521000</td>\n      <td>B2</td>\n      <td>34.566000</td>\n      <td>0.045000</td>\n    </tr>\n    <tr>\n      <th>44</th>\n      <td>100_marron1_May_24_2016_62101389.wav</td>\n      <td>34.566000</td>\n      <td>36.762314</td>\n      <td>N</td>\n      <td>36.802000</td>\n      <td>0.039686</td>\n    </tr>\n    <tr>\n      <th>45</th>\n      <td>100_marron1_May_24_2016_62101389.wav</td>\n      <td>36.802000</td>\n      <td>37.712000</td>\n      <td>A</td>\n      <td>37.712000</td>\n      <td>0.000000</td>\n    </tr>\n    <tr>\n      <th>46</th>\n      <td>100_marron1_May_24_2016_62101389.wav</td>\n      <td>37.712000</td>\n      <td>37.779000</td>\n      <td>A</td>\n      <td>NaN</td>\n      <td>NaN</td>\n    </tr>\n  </tbody>\n</table>\n</div>"
     },
     "execution_count": 85,
     "metadata": {},
     "output_type": "execute_result"
    }
   ],
   "source": [
    "df[\"diff\"] = df[\"start_d\"] - df[\"end\"]\n",
    "df"
   ],
   "metadata": {
    "collapsed": false,
    "pycharm": {
     "name": "#%%\n"
    }
   }
  },
  {
   "cell_type": "code",
   "execution_count": 86,
   "outputs": [],
   "source": [
    "first_consecutives = df[(df[\"syll\"].shift(-1) == df[\"syll\"])\n",
    "                        & ~(df[\"syll\"].isin([\"call\"]))\n",
    "                        & (df[\"diff\"] < 0.01)\n",
    "                        & (df[\"diff\"] != np.nan)]"
   ],
   "metadata": {
    "collapsed": false,
    "pycharm": {
     "name": "#%%\n"
    }
   }
  },
  {
   "cell_type": "code",
   "execution_count": 87,
   "outputs": [
    {
     "data": {
      "text/plain": "                                    wave   start     end syll  start_d  diff\n8   100_marron1_May_24_2016_62101389.wav   7.059   7.104   J1    7.104   0.0\n22  100_marron1_May_24_2016_62101389.wav  18.831  19.660    A   19.660   0.0\n45  100_marron1_May_24_2016_62101389.wav  36.802  37.712    A   37.712   0.0",
      "text/html": "<div>\n<style scoped>\n    .dataframe tbody tr th:only-of-type {\n        vertical-align: middle;\n    }\n\n    .dataframe tbody tr th {\n        vertical-align: top;\n    }\n\n    .dataframe thead th {\n        text-align: right;\n    }\n</style>\n<table border=\"1\" class=\"dataframe\">\n  <thead>\n    <tr style=\"text-align: right;\">\n      <th></th>\n      <th>wave</th>\n      <th>start</th>\n      <th>end</th>\n      <th>syll</th>\n      <th>start_d</th>\n      <th>diff</th>\n    </tr>\n  </thead>\n  <tbody>\n    <tr>\n      <th>8</th>\n      <td>100_marron1_May_24_2016_62101389.wav</td>\n      <td>7.059</td>\n      <td>7.104</td>\n      <td>J1</td>\n      <td>7.104</td>\n      <td>0.0</td>\n    </tr>\n    <tr>\n      <th>22</th>\n      <td>100_marron1_May_24_2016_62101389.wav</td>\n      <td>18.831</td>\n      <td>19.660</td>\n      <td>A</td>\n      <td>19.660</td>\n      <td>0.0</td>\n    </tr>\n    <tr>\n      <th>45</th>\n      <td>100_marron1_May_24_2016_62101389.wav</td>\n      <td>36.802</td>\n      <td>37.712</td>\n      <td>A</td>\n      <td>37.712</td>\n      <td>0.0</td>\n    </tr>\n  </tbody>\n</table>\n</div>"
     },
     "execution_count": 87,
     "metadata": {},
     "output_type": "execute_result"
    }
   ],
   "source": [
    "first_consecutives\n"
   ],
   "metadata": {
    "collapsed": false,
    "pycharm": {
     "name": "#%%\n"
    }
   }
  },
  {
   "cell_type": "code",
   "execution_count": 88,
   "outputs": [
    {
     "data": {
      "text/plain": "                                    wave      start        end  syll  \\\n0   100_marron1_May_24_2016_62101389.wav   0.350000   0.664000  call   \n1   100_marron1_May_24_2016_62101389.wav   1.359000   2.412000     Z   \n2   100_marron1_May_24_2016_62101389.wav   2.488000   2.773000     T   \n3   100_marron1_May_24_2016_62101389.wav   2.969000   4.398000     U   \n4   100_marron1_May_24_2016_62101389.wav   4.398000   4.695000    J2   \n5   100_marron1_May_24_2016_62101389.wav   4.835000   5.697977    B1   \n6   100_marron1_May_24_2016_62101389.wav   5.697977   6.770899    B2   \n7   100_marron1_May_24_2016_62101389.wav   6.768000   6.925000     R   \n9   100_marron1_May_24_2016_62101389.wav   7.059000   8.009000    J1   \n10  100_marron1_May_24_2016_62101389.wav   8.009000   8.432000    J2   \n11  100_marron1_May_24_2016_62101389.wav   8.617000   9.463000    B1   \n12  100_marron1_May_24_2016_62101389.wav   9.463000  10.241791    B2   \n13  100_marron1_May_24_2016_62101389.wav  10.241791  10.782454     Q   \n14  100_marron1_May_24_2016_62101389.wav  10.776851  11.469000     O   \n15  100_marron1_May_24_2016_62101389.wav  11.530000  12.281000    J1   \n16  100_marron1_May_24_2016_62101389.wav  12.281000  13.603000     L   \n17  100_marron1_May_24_2016_62101389.wav  13.645000  15.382000     N   \n18  100_marron1_May_24_2016_62101389.wav  15.362686  15.530596     S   \n19  100_marron1_May_24_2016_62101389.wav  15.562000  17.088000     M   \n20  100_marron1_May_24_2016_62101389.wav  17.088000  18.520000     D   \n21  100_marron1_May_24_2016_62101389.wav  18.581000  18.752338     I   \n23  100_marron1_May_24_2016_62101389.wav  18.831000  19.730000     A   \n24  100_marron1_May_24_2016_62101389.wav  19.744000  19.907000     O   \n25  100_marron1_May_24_2016_62101389.wav  19.974000  20.304000     P   \n26  100_marron1_May_24_2016_62101389.wav  20.408000  20.688000     K   \n27  100_marron1_May_24_2016_62101389.wav  20.688000  21.007000    K2   \n28  100_marron1_May_24_2016_62101389.wav  21.049000  22.643000     L   \n29  100_marron1_May_24_2016_62101389.wav  22.663000  24.879000     N   \n30  100_marron1_May_24_2016_62101389.wav  24.879000  25.039000     S   \n31  100_marron1_May_24_2016_62101389.wav  25.064000  26.145000     M   \n32  100_marron1_May_24_2016_62101389.wav  26.145000  27.591000     D   \n33  100_marron1_May_24_2016_62101389.wav  27.652000  27.834000     I   \n34  100_marron1_May_24_2016_62101389.wav  27.958000  28.947000     A   \n35  100_marron1_May_24_2016_62101389.wav  29.000000  29.199000     O   \n36  100_marron1_May_24_2016_62101389.wav  29.257000  29.591000     P   \n37  100_marron1_May_24_2016_62101389.wav  29.703000  29.927000     K   \n38  100_marron1_May_24_2016_62101389.wav  29.926983  31.520960     V   \n39  100_marron1_May_24_2016_62101389.wav  31.535000  31.697000     O   \n40  100_marron1_May_24_2016_62101389.wav  31.838000  32.465020    J1   \n41  100_marron1_May_24_2016_62101389.wav  32.468000  32.538000    J2   \n42  100_marron1_May_24_2016_62101389.wav  32.636000  33.546000    B1   \n43  100_marron1_May_24_2016_62101389.wav  33.546000  34.521000    B2   \n44  100_marron1_May_24_2016_62101389.wav  34.566000  36.762314     N   \n46  100_marron1_May_24_2016_62101389.wav  36.802000  37.779000     A   \n\n      start_d      diff  \n0    1.359000  0.695000  \n1    2.488000  0.076000  \n2    2.969000  0.196000  \n3    4.398000  0.000000  \n4    4.835000  0.140000  \n5    5.697977  0.000000  \n6    6.768000 -0.002899  \n7    7.059000  0.134000  \n9    8.009000  0.000000  \n10   8.617000  0.185000  \n11   9.463000  0.000000  \n12  10.241791  0.000000  \n13  10.776851 -0.005603  \n14  11.530000  0.061000  \n15  12.281000  0.000000  \n16  13.645000  0.042000  \n17  15.362686 -0.019314  \n18  15.562000  0.031404  \n19  17.088000  0.000000  \n20  18.581000  0.061000  \n21  18.831000  0.078662  \n23  19.744000  0.014000  \n24  19.974000  0.067000  \n25  20.408000  0.104000  \n26  20.688000  0.000000  \n27  21.049000  0.042000  \n28  22.663000  0.020000  \n29  24.879000  0.000000  \n30  25.064000  0.025000  \n31  26.145000  0.000000  \n32  27.652000  0.061000  \n33  27.958000  0.124000  \n34  29.000000  0.053000  \n35  29.257000  0.058000  \n36  29.703000  0.112000  \n37  29.926983 -0.000017  \n38  31.535000  0.014040  \n39  31.838000  0.141000  \n40  32.468000  0.002980  \n41  32.636000  0.098000  \n42  33.546000  0.000000  \n43  34.566000  0.045000  \n44  36.802000  0.039686  \n46        NaN       NaN  ",
      "text/html": "<div>\n<style scoped>\n    .dataframe tbody tr th:only-of-type {\n        vertical-align: middle;\n    }\n\n    .dataframe tbody tr th {\n        vertical-align: top;\n    }\n\n    .dataframe thead th {\n        text-align: right;\n    }\n</style>\n<table border=\"1\" class=\"dataframe\">\n  <thead>\n    <tr style=\"text-align: right;\">\n      <th></th>\n      <th>wave</th>\n      <th>start</th>\n      <th>end</th>\n      <th>syll</th>\n      <th>start_d</th>\n      <th>diff</th>\n    </tr>\n  </thead>\n  <tbody>\n    <tr>\n      <th>0</th>\n      <td>100_marron1_May_24_2016_62101389.wav</td>\n      <td>0.350000</td>\n      <td>0.664000</td>\n      <td>call</td>\n      <td>1.359000</td>\n      <td>0.695000</td>\n    </tr>\n    <tr>\n      <th>1</th>\n      <td>100_marron1_May_24_2016_62101389.wav</td>\n      <td>1.359000</td>\n      <td>2.412000</td>\n      <td>Z</td>\n      <td>2.488000</td>\n      <td>0.076000</td>\n    </tr>\n    <tr>\n      <th>2</th>\n      <td>100_marron1_May_24_2016_62101389.wav</td>\n      <td>2.488000</td>\n      <td>2.773000</td>\n      <td>T</td>\n      <td>2.969000</td>\n      <td>0.196000</td>\n    </tr>\n    <tr>\n      <th>3</th>\n      <td>100_marron1_May_24_2016_62101389.wav</td>\n      <td>2.969000</td>\n      <td>4.398000</td>\n      <td>U</td>\n      <td>4.398000</td>\n      <td>0.000000</td>\n    </tr>\n    <tr>\n      <th>4</th>\n      <td>100_marron1_May_24_2016_62101389.wav</td>\n      <td>4.398000</td>\n      <td>4.695000</td>\n      <td>J2</td>\n      <td>4.835000</td>\n      <td>0.140000</td>\n    </tr>\n    <tr>\n      <th>5</th>\n      <td>100_marron1_May_24_2016_62101389.wav</td>\n      <td>4.835000</td>\n      <td>5.697977</td>\n      <td>B1</td>\n      <td>5.697977</td>\n      <td>0.000000</td>\n    </tr>\n    <tr>\n      <th>6</th>\n      <td>100_marron1_May_24_2016_62101389.wav</td>\n      <td>5.697977</td>\n      <td>6.770899</td>\n      <td>B2</td>\n      <td>6.768000</td>\n      <td>-0.002899</td>\n    </tr>\n    <tr>\n      <th>7</th>\n      <td>100_marron1_May_24_2016_62101389.wav</td>\n      <td>6.768000</td>\n      <td>6.925000</td>\n      <td>R</td>\n      <td>7.059000</td>\n      <td>0.134000</td>\n    </tr>\n    <tr>\n      <th>9</th>\n      <td>100_marron1_May_24_2016_62101389.wav</td>\n      <td>7.059000</td>\n      <td>8.009000</td>\n      <td>J1</td>\n      <td>8.009000</td>\n      <td>0.000000</td>\n    </tr>\n    <tr>\n      <th>10</th>\n      <td>100_marron1_May_24_2016_62101389.wav</td>\n      <td>8.009000</td>\n      <td>8.432000</td>\n      <td>J2</td>\n      <td>8.617000</td>\n      <td>0.185000</td>\n    </tr>\n    <tr>\n      <th>11</th>\n      <td>100_marron1_May_24_2016_62101389.wav</td>\n      <td>8.617000</td>\n      <td>9.463000</td>\n      <td>B1</td>\n      <td>9.463000</td>\n      <td>0.000000</td>\n    </tr>\n    <tr>\n      <th>12</th>\n      <td>100_marron1_May_24_2016_62101389.wav</td>\n      <td>9.463000</td>\n      <td>10.241791</td>\n      <td>B2</td>\n      <td>10.241791</td>\n      <td>0.000000</td>\n    </tr>\n    <tr>\n      <th>13</th>\n      <td>100_marron1_May_24_2016_62101389.wav</td>\n      <td>10.241791</td>\n      <td>10.782454</td>\n      <td>Q</td>\n      <td>10.776851</td>\n      <td>-0.005603</td>\n    </tr>\n    <tr>\n      <th>14</th>\n      <td>100_marron1_May_24_2016_62101389.wav</td>\n      <td>10.776851</td>\n      <td>11.469000</td>\n      <td>O</td>\n      <td>11.530000</td>\n      <td>0.061000</td>\n    </tr>\n    <tr>\n      <th>15</th>\n      <td>100_marron1_May_24_2016_62101389.wav</td>\n      <td>11.530000</td>\n      <td>12.281000</td>\n      <td>J1</td>\n      <td>12.281000</td>\n      <td>0.000000</td>\n    </tr>\n    <tr>\n      <th>16</th>\n      <td>100_marron1_May_24_2016_62101389.wav</td>\n      <td>12.281000</td>\n      <td>13.603000</td>\n      <td>L</td>\n      <td>13.645000</td>\n      <td>0.042000</td>\n    </tr>\n    <tr>\n      <th>17</th>\n      <td>100_marron1_May_24_2016_62101389.wav</td>\n      <td>13.645000</td>\n      <td>15.382000</td>\n      <td>N</td>\n      <td>15.362686</td>\n      <td>-0.019314</td>\n    </tr>\n    <tr>\n      <th>18</th>\n      <td>100_marron1_May_24_2016_62101389.wav</td>\n      <td>15.362686</td>\n      <td>15.530596</td>\n      <td>S</td>\n      <td>15.562000</td>\n      <td>0.031404</td>\n    </tr>\n    <tr>\n      <th>19</th>\n      <td>100_marron1_May_24_2016_62101389.wav</td>\n      <td>15.562000</td>\n      <td>17.088000</td>\n      <td>M</td>\n      <td>17.088000</td>\n      <td>0.000000</td>\n    </tr>\n    <tr>\n      <th>20</th>\n      <td>100_marron1_May_24_2016_62101389.wav</td>\n      <td>17.088000</td>\n      <td>18.520000</td>\n      <td>D</td>\n      <td>18.581000</td>\n      <td>0.061000</td>\n    </tr>\n    <tr>\n      <th>21</th>\n      <td>100_marron1_May_24_2016_62101389.wav</td>\n      <td>18.581000</td>\n      <td>18.752338</td>\n      <td>I</td>\n      <td>18.831000</td>\n      <td>0.078662</td>\n    </tr>\n    <tr>\n      <th>23</th>\n      <td>100_marron1_May_24_2016_62101389.wav</td>\n      <td>18.831000</td>\n      <td>19.730000</td>\n      <td>A</td>\n      <td>19.744000</td>\n      <td>0.014000</td>\n    </tr>\n    <tr>\n      <th>24</th>\n      <td>100_marron1_May_24_2016_62101389.wav</td>\n      <td>19.744000</td>\n      <td>19.907000</td>\n      <td>O</td>\n      <td>19.974000</td>\n      <td>0.067000</td>\n    </tr>\n    <tr>\n      <th>25</th>\n      <td>100_marron1_May_24_2016_62101389.wav</td>\n      <td>19.974000</td>\n      <td>20.304000</td>\n      <td>P</td>\n      <td>20.408000</td>\n      <td>0.104000</td>\n    </tr>\n    <tr>\n      <th>26</th>\n      <td>100_marron1_May_24_2016_62101389.wav</td>\n      <td>20.408000</td>\n      <td>20.688000</td>\n      <td>K</td>\n      <td>20.688000</td>\n      <td>0.000000</td>\n    </tr>\n    <tr>\n      <th>27</th>\n      <td>100_marron1_May_24_2016_62101389.wav</td>\n      <td>20.688000</td>\n      <td>21.007000</td>\n      <td>K2</td>\n      <td>21.049000</td>\n      <td>0.042000</td>\n    </tr>\n    <tr>\n      <th>28</th>\n      <td>100_marron1_May_24_2016_62101389.wav</td>\n      <td>21.049000</td>\n      <td>22.643000</td>\n      <td>L</td>\n      <td>22.663000</td>\n      <td>0.020000</td>\n    </tr>\n    <tr>\n      <th>29</th>\n      <td>100_marron1_May_24_2016_62101389.wav</td>\n      <td>22.663000</td>\n      <td>24.879000</td>\n      <td>N</td>\n      <td>24.879000</td>\n      <td>0.000000</td>\n    </tr>\n    <tr>\n      <th>30</th>\n      <td>100_marron1_May_24_2016_62101389.wav</td>\n      <td>24.879000</td>\n      <td>25.039000</td>\n      <td>S</td>\n      <td>25.064000</td>\n      <td>0.025000</td>\n    </tr>\n    <tr>\n      <th>31</th>\n      <td>100_marron1_May_24_2016_62101389.wav</td>\n      <td>25.064000</td>\n      <td>26.145000</td>\n      <td>M</td>\n      <td>26.145000</td>\n      <td>0.000000</td>\n    </tr>\n    <tr>\n      <th>32</th>\n      <td>100_marron1_May_24_2016_62101389.wav</td>\n      <td>26.145000</td>\n      <td>27.591000</td>\n      <td>D</td>\n      <td>27.652000</td>\n      <td>0.061000</td>\n    </tr>\n    <tr>\n      <th>33</th>\n      <td>100_marron1_May_24_2016_62101389.wav</td>\n      <td>27.652000</td>\n      <td>27.834000</td>\n      <td>I</td>\n      <td>27.958000</td>\n      <td>0.124000</td>\n    </tr>\n    <tr>\n      <th>34</th>\n      <td>100_marron1_May_24_2016_62101389.wav</td>\n      <td>27.958000</td>\n      <td>28.947000</td>\n      <td>A</td>\n      <td>29.000000</td>\n      <td>0.053000</td>\n    </tr>\n    <tr>\n      <th>35</th>\n      <td>100_marron1_May_24_2016_62101389.wav</td>\n      <td>29.000000</td>\n      <td>29.199000</td>\n      <td>O</td>\n      <td>29.257000</td>\n      <td>0.058000</td>\n    </tr>\n    <tr>\n      <th>36</th>\n      <td>100_marron1_May_24_2016_62101389.wav</td>\n      <td>29.257000</td>\n      <td>29.591000</td>\n      <td>P</td>\n      <td>29.703000</td>\n      <td>0.112000</td>\n    </tr>\n    <tr>\n      <th>37</th>\n      <td>100_marron1_May_24_2016_62101389.wav</td>\n      <td>29.703000</td>\n      <td>29.927000</td>\n      <td>K</td>\n      <td>29.926983</td>\n      <td>-0.000017</td>\n    </tr>\n    <tr>\n      <th>38</th>\n      <td>100_marron1_May_24_2016_62101389.wav</td>\n      <td>29.926983</td>\n      <td>31.520960</td>\n      <td>V</td>\n      <td>31.535000</td>\n      <td>0.014040</td>\n    </tr>\n    <tr>\n      <th>39</th>\n      <td>100_marron1_May_24_2016_62101389.wav</td>\n      <td>31.535000</td>\n      <td>31.697000</td>\n      <td>O</td>\n      <td>31.838000</td>\n      <td>0.141000</td>\n    </tr>\n    <tr>\n      <th>40</th>\n      <td>100_marron1_May_24_2016_62101389.wav</td>\n      <td>31.838000</td>\n      <td>32.465020</td>\n      <td>J1</td>\n      <td>32.468000</td>\n      <td>0.002980</td>\n    </tr>\n    <tr>\n      <th>41</th>\n      <td>100_marron1_May_24_2016_62101389.wav</td>\n      <td>32.468000</td>\n      <td>32.538000</td>\n      <td>J2</td>\n      <td>32.636000</td>\n      <td>0.098000</td>\n    </tr>\n    <tr>\n      <th>42</th>\n      <td>100_marron1_May_24_2016_62101389.wav</td>\n      <td>32.636000</td>\n      <td>33.546000</td>\n      <td>B1</td>\n      <td>33.546000</td>\n      <td>0.000000</td>\n    </tr>\n    <tr>\n      <th>43</th>\n      <td>100_marron1_May_24_2016_62101389.wav</td>\n      <td>33.546000</td>\n      <td>34.521000</td>\n      <td>B2</td>\n      <td>34.566000</td>\n      <td>0.045000</td>\n    </tr>\n    <tr>\n      <th>44</th>\n      <td>100_marron1_May_24_2016_62101389.wav</td>\n      <td>34.566000</td>\n      <td>36.762314</td>\n      <td>N</td>\n      <td>36.802000</td>\n      <td>0.039686</td>\n    </tr>\n    <tr>\n      <th>46</th>\n      <td>100_marron1_May_24_2016_62101389.wav</td>\n      <td>36.802000</td>\n      <td>37.779000</td>\n      <td>A</td>\n      <td>NaN</td>\n      <td>NaN</td>\n    </tr>\n  </tbody>\n</table>\n</div>"
     },
     "execution_count": 88,
     "metadata": {},
     "output_type": "execute_result"
    }
   ],
   "source": [
    "df_c = df.copy()\n",
    "for first in first_consecutives.itertuples():\n",
    "    next = df.index[first.Index + 1]\n",
    "    df_c.at[next, \"start\"] = first.start\n",
    "    df_c = df_c.drop(first.Index, axis=0)\n",
    "\n",
    "df_c\n"
   ],
   "metadata": {
    "collapsed": false,
    "pycharm": {
     "name": "#%%\n"
    }
   }
  },
  {
   "cell_type": "code",
   "execution_count": 5,
   "outputs": [],
   "source": [
    "def join(df):\n",
    "    df = df.reset_index(drop=True)\n",
    "    df[\"start_d\"] = df[\"start\"].shift(-1)\n",
    "    df[\"diff\"] = df[\"start_d\"] - df[\"end\"]\n",
    "    first_consecutives = df[(df[\"syll\"].shift(-1) == df[\"syll\"])\n",
    "                            & ~(df[\"syll\"].isin([\"call\"]))\n",
    "                            & (df[\"diff\"] < 0.01)\n",
    "                            & (df[\"diff\"] != np.nan)]\n",
    "\n",
    "    df_c = df.copy()\n",
    "    for first in first_consecutives.itertuples():\n",
    "        next = df.index[first.Index + 1]\n",
    "        df_c.at[next, \"start\"] = first.start\n",
    "        df_c = df_c.drop(first.Index, axis=0)\n",
    "\n",
    "    return df_c.drop([\"start_d\", \"diff\"], axis=1)"
   ],
   "metadata": {
    "collapsed": false,
    "pycharm": {
     "name": "#%%\n"
    }
   }
  },
  {
   "cell_type": "code",
   "execution_count": 9,
   "outputs": [],
   "source": [
    "def par_join():\n",
    "    df = dataset.df\n",
    "    df = df[df[\"syll\"] != \"SIL\"].copy()\n",
    "    df = df.drop([\"repertoire_file\"], axis=1).reset_index(drop=True)\n",
    "    songs = list(df.groupby(\"wave\").groups.keys())\n",
    "    with Parallel(n_jobs=-1) as parallel:\n",
    "        dfs = parallel(delayed(join)(df[df[\"wave\"] == s].copy()) for s in songs)\n",
    "    return pd.concat(dfs)"
   ],
   "metadata": {
    "collapsed": false,
    "pycharm": {
     "name": "#%%\n"
    }
   }
  },
  {
   "cell_type": "code",
   "execution_count": 12,
   "outputs": [
    {
     "name": "stdout",
     "output_type": "stream",
     "text": [
      "902 ms ± 36.7 ms per loop (mean ± std. dev. of 7 runs, 1 loop each)\n"
     ]
    }
   ],
   "source": [
    "%timeit par_join()"
   ],
   "metadata": {
    "collapsed": false,
    "pycharm": {
     "name": "#%%\n"
    }
   }
  },
  {
   "cell_type": "code",
   "execution_count": 14,
   "outputs": [],
   "source": [
    "def seq_join():\n",
    "    df = dataset.df\n",
    "    df = df[df[\"syll\"] != \"SIL\"].copy()\n",
    "    df = df.drop([\"repertoire_file\"], axis=1).reset_index(drop=True)\n",
    "    songs = list(df.groupby(\"wave\").groups.keys())\n",
    "    dfs = []\n",
    "    for s in songs:\n",
    "        dfs.append(join(df[df[\"wave\"] == s].copy()))\n",
    "    return pd.concat(dfs)"
   ],
   "metadata": {
    "collapsed": false,
    "pycharm": {
     "name": "#%%\n"
    }
   }
  },
  {
   "cell_type": "code",
   "execution_count": 15,
   "outputs": [
    {
     "name": "stdout",
     "output_type": "stream",
     "text": [
      "1.82 s ± 5.92 ms per loop (mean ± std. dev. of 7 runs, 1 loop each)\n"
     ]
    }
   ],
   "source": [
    "%timeit seq_join()"
   ],
   "metadata": {
    "collapsed": false,
    "pycharm": {
     "name": "#%%\n"
    }
   }
  },
  {
   "cell_type": "code",
   "execution_count": 20,
   "outputs": [
    {
     "data": {
      "text/plain": "17130"
     },
     "execution_count": 20,
     "metadata": {},
     "output_type": "execute_result"
    }
   ],
   "source": [
    "a = glob.glob(\"../data/**/*.wav\", recursive=True)\n",
    "len(a)"
   ],
   "metadata": {
    "collapsed": false,
    "pycharm": {
     "name": "#%%\n"
    }
   }
  },
  {
   "cell_type": "code",
   "execution_count": 38,
   "outputs": [
    {
     "data": {
      "text/plain": "                                        wave      start        end   syll\n216     106_marron1_May_25_2016_22908212.wav  25.422000  25.464000  TRASH\n249     107_marron1_May_25_2016_24672389.wav   8.792000   8.862000  TRASH\n254     107_marron1_May_25_2016_24672389.wav  11.177000  11.241000  TRASH\n265     107_marron1_May_25_2016_24672389.wav  17.656000  17.724000  TRASH\n475     112_marron1_May_25_2016_42727029.wav  14.761000  14.840000  TRASH\n...                                      ...        ...        ...    ...\n13832  526_marron1_June_08_2016_35860114.wav   6.786465   6.918884  TRASH\n14249  549_marron1_June_15_2016_58318268.wav   7.746502   7.851333  TRASH\n14284  551_marron1_June_15_2016_60066808.wav  10.052796  10.207285  TRASH\n14297  552_marron1_June_15_2016_71086510.wav  11.581130  11.724584  TRASH\n14353   555_marron1_May_23_2016_35954916.wav   8.496334   8.674950  TRASH\n\n[94 rows x 4 columns]",
      "text/html": "<div>\n<style scoped>\n    .dataframe tbody tr th:only-of-type {\n        vertical-align: middle;\n    }\n\n    .dataframe tbody tr th {\n        vertical-align: top;\n    }\n\n    .dataframe thead th {\n        text-align: right;\n    }\n</style>\n<table border=\"1\" class=\"dataframe\">\n  <thead>\n    <tr style=\"text-align: right;\">\n      <th></th>\n      <th>wave</th>\n      <th>start</th>\n      <th>end</th>\n      <th>syll</th>\n    </tr>\n  </thead>\n  <tbody>\n    <tr>\n      <th>216</th>\n      <td>106_marron1_May_25_2016_22908212.wav</td>\n      <td>25.422000</td>\n      <td>25.464000</td>\n      <td>TRASH</td>\n    </tr>\n    <tr>\n      <th>249</th>\n      <td>107_marron1_May_25_2016_24672389.wav</td>\n      <td>8.792000</td>\n      <td>8.862000</td>\n      <td>TRASH</td>\n    </tr>\n    <tr>\n      <th>254</th>\n      <td>107_marron1_May_25_2016_24672389.wav</td>\n      <td>11.177000</td>\n      <td>11.241000</td>\n      <td>TRASH</td>\n    </tr>\n    <tr>\n      <th>265</th>\n      <td>107_marron1_May_25_2016_24672389.wav</td>\n      <td>17.656000</td>\n      <td>17.724000</td>\n      <td>TRASH</td>\n    </tr>\n    <tr>\n      <th>475</th>\n      <td>112_marron1_May_25_2016_42727029.wav</td>\n      <td>14.761000</td>\n      <td>14.840000</td>\n      <td>TRASH</td>\n    </tr>\n    <tr>\n      <th>...</th>\n      <td>...</td>\n      <td>...</td>\n      <td>...</td>\n      <td>...</td>\n    </tr>\n    <tr>\n      <th>13832</th>\n      <td>526_marron1_June_08_2016_35860114.wav</td>\n      <td>6.786465</td>\n      <td>6.918884</td>\n      <td>TRASH</td>\n    </tr>\n    <tr>\n      <th>14249</th>\n      <td>549_marron1_June_15_2016_58318268.wav</td>\n      <td>7.746502</td>\n      <td>7.851333</td>\n      <td>TRASH</td>\n    </tr>\n    <tr>\n      <th>14284</th>\n      <td>551_marron1_June_15_2016_60066808.wav</td>\n      <td>10.052796</td>\n      <td>10.207285</td>\n      <td>TRASH</td>\n    </tr>\n    <tr>\n      <th>14297</th>\n      <td>552_marron1_June_15_2016_71086510.wav</td>\n      <td>11.581130</td>\n      <td>11.724584</td>\n      <td>TRASH</td>\n    </tr>\n    <tr>\n      <th>14353</th>\n      <td>555_marron1_May_23_2016_35954916.wav</td>\n      <td>8.496334</td>\n      <td>8.674950</td>\n      <td>TRASH</td>\n    </tr>\n  </tbody>\n</table>\n<p>94 rows × 4 columns</p>\n</div>"
     },
     "execution_count": 38,
     "metadata": {},
     "output_type": "execute_result"
    }
   ],
   "source": [
    "df[df[\"syll\"] == \"TRASH\"].iloc[:100]"
   ],
   "metadata": {
    "collapsed": false,
    "pycharm": {
     "name": "#%%\n"
    }
   }
  },
  {
   "cell_type": "code",
   "execution_count": null,
   "outputs": [],
   "source": [],
   "metadata": {
    "collapsed": false,
    "pycharm": {
     "name": "#%%\n"
    }
   }
  }
 ],
 "metadata": {
  "kernelspec": {
   "display_name": "Python 3",
   "language": "python",
   "name": "python3"
  },
  "language_info": {
   "codemirror_mode": {
    "name": "ipython",
    "version": 3
   },
   "file_extension": ".py",
   "mimetype": "text/x-python",
   "name": "python",
   "nbconvert_exporter": "python",
   "pygments_lexer": "ipython3",
   "version": "3.8.5"
  }
 },
 "nbformat": 4,
 "nbformat_minor": 5
}
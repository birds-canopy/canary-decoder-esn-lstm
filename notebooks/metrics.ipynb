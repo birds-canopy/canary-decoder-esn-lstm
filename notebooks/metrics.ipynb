{
 "cells": [
  {
   "cell_type": "code",
   "execution_count": 1,
   "id": "resistant-print",
   "metadata": {},
   "outputs": [],
   "source": [
    "import glob\n",
    "import math\n",
    "import datetime\n",
    "import json\n",
    "import itertools\n",
    "from pathlib import Path\n",
    "\n",
    "import numpy as np\n",
    "import pandas as pd\n",
    "import scipy\n",
    "import librosa as lbr\n",
    "import matplotlib\n",
    "import matplotlib.pyplot as plt\n",
    "from mpl_toolkits.axes_grid1.inset_locator import inset_axes\n",
    "from sklearn import metrics\n",
    "from sklearn.utils.multiclass import unique_labels\n",
    "from tqdm import tqdm"
   ]
  },
  {
   "cell_type": "markdown",
   "id": "sporting-algorithm",
   "metadata": {},
   "source": [
    "# Accuracy"
   ]
  },
  {
   "cell_type": "code",
   "execution_count": 2,
   "id": "obvious-powell",
   "metadata": {},
   "outputs": [],
   "source": [
    "lstm_metrics_files = glob.glob(\"../reports/marron1/lstm-2/cv/*/metrics*.json\")\n",
    "esn_metrics_files = glob.glob(\"../reports/marron1/esn-4/cv/*/metrics*.json\")"
   ]
  },
  {
   "cell_type": "code",
   "execution_count": 3,
   "id": "charitable-estate",
   "metadata": {},
   "outputs": [
    {
     "data": {
      "text/plain": [
       "(25, 150)"
      ]
     },
     "execution_count": 3,
     "metadata": {},
     "output_type": "execute_result"
    }
   ],
   "source": [
    "len(lstm_metrics_files), len(esn_metrics_files)"
   ]
  },
  {
   "cell_type": "code",
   "execution_count": 4,
   "id": "explicit-contribution",
   "metadata": {},
   "outputs": [],
   "source": [
    "all_lstm_metrics = []\n",
    "for m in lstm_metrics_files:\n",
    "    with open(m, \"r\") as fp:\n",
    "        all_lstm_metrics.append(json.load(fp))\n",
    "        \n",
    "all_esn_metrics = []\n",
    "for m in esn_metrics_files:\n",
    "    with open(m, \"r\") as fp:\n",
    "        all_esn_metrics.append(json.load(fp))"
   ]
  },
  {
   "cell_type": "code",
   "execution_count": 5,
   "id": "funded-contractor",
   "metadata": {},
   "outputs": [],
   "source": [
    "def get_esn_instances(x):\n",
    "    instance = Path(x).stem.split(\"-\")[1]\n",
    "    return instance\n",
    "\n",
    "esn_instances_metrics = {str(i): [] for i in range(30)}\n",
    "for m in esn_metrics_files:\n",
    "    instance = get_esn_instances(m)\n",
    "    with open(m, \"r\") as fp:\n",
    "        met = json.load(fp)\n",
    "    esn_instances_metrics[instance].append(met)"
   ]
  },
  {
   "cell_type": "code",
   "execution_count": 6,
   "id": "seven-leone",
   "metadata": {},
   "outputs": [],
   "source": [
    "lstm_accuracies = []\n",
    "for met in all_lstm_metrics:\n",
    "    lstm_accuracies += [m[\"accuracy\"] for m in met.values()]\n",
    "    \n",
    "esn_accuracies = []\n",
    "for met in all_esn_metrics:\n",
    "    esn_accuracies += [m[\"accuracy\"] for m in met.values()]\n",
    "\n",
    "mean_lstm_accuracy = np.mean(lstm_accuracies)\n",
    "median_lstm_accuracy = np.median(lstm_accuracies)\n",
    "std_lstm_accuracy = np.std(lstm_accuracies)\n",
    "\n",
    "\n",
    "mean_esn_accuracy = np.mean(esn_accuracies)\n",
    "median_esn_accuracy = np.median(esn_accuracies)\n",
    "std_esn_accuracy = np.std(esn_accuracies)"
   ]
  },
  {
   "cell_type": "code",
   "execution_count": 7,
   "id": "signed-interest",
   "metadata": {},
   "outputs": [
    {
     "data": {
      "text/plain": [
       "(10016240.0, 0.2806418022251993)"
      ]
     },
     "execution_count": 7,
     "metadata": {},
     "output_type": "execute_result"
    }
   ],
   "source": [
    "w, p = scipy.stats.mannwhitneyu(esn_accuracies, lstm_accuracies)\n",
    "w, p"
   ]
  },
  {
   "cell_type": "code",
   "execution_count": 8,
   "id": "buried-variance",
   "metadata": {},
   "outputs": [
    {
     "data": {
      "text/plain": [
       "(0.931350163323935, 0.10439287582142792, 0.9509172037679723)"
      ]
     },
     "execution_count": 8,
     "metadata": {},
     "output_type": "execute_result"
    }
   ],
   "source": [
    "mean_lstm_accuracy, std_lstm_accuracy, median_lstm_accuracy"
   ]
  },
  {
   "cell_type": "code",
   "execution_count": 9,
   "id": "norman-screw",
   "metadata": {},
   "outputs": [
    {
     "data": {
      "text/plain": [
       "(0.9349578700711627, 0.09275546385545755, 0.951487414187643)"
      ]
     },
     "execution_count": 9,
     "metadata": {},
     "output_type": "execute_result"
    }
   ],
   "source": [
    "mean_esn_accuracy, std_esn_accuracy, median_esn_accuracy"
   ]
  },
  {
   "cell_type": "code",
   "execution_count": 19,
   "id": "christian-portfolio",
   "metadata": {},
   "outputs": [],
   "source": [
    "tlstm_metrics_files = glob.glob(\"../reports/marron1/lstm-2/complete/metrics*.json\")\n",
    "tesn_metrics_files = glob.glob(\"../reports/marron1/esn-4/complete/metrics*.json\")"
   ]
  },
  {
   "cell_type": "code",
   "execution_count": 20,
   "id": "standard-residence",
   "metadata": {},
   "outputs": [],
   "source": [
    "tall_lstm_tmetrics = []\n",
    "for m in tlstm_metrics_files:\n",
    "    with open(m, \"r\") as fp:\n",
    "        tall_lstm_tmetrics.append(json.load(fp))\n",
    "        \n",
    "tall_esn_tmetrics = []\n",
    "for m in tesn_metrics_files:\n",
    "    with open(m, \"r\") as fp:\n",
    "        tall_esn_tmetrics.append(json.load(fp))"
   ]
  },
  {
   "cell_type": "code",
   "execution_count": 21,
   "id": "artistic-board",
   "metadata": {},
   "outputs": [],
   "source": [
    "tlstm_taccuracies = []\n",
    "for met in tall_lstm_tmetrics:\n",
    "    tlstm_taccuracies += [m[\"accuracy\"] for m in met.values()]\n",
    "    \n",
    "tesn_taccuracies = []\n",
    "for met in tall_esn_tmetrics:\n",
    "    tesn_taccuracies += [m[\"accuracy\"] for m in met.values()]\n",
    "\n",
    "tmean_lstm_accuracy = np.mean(tlstm_taccuracies)\n",
    "tmedian_lstm_accuracy = np.median(tlstm_taccuracies)\n",
    "tstd_lstm_accuracy = np.std(tlstm_taccuracies)\n",
    "\n",
    "\n",
    "tmean_esn_accuracy = np.mean(tesn_taccuracies)\n",
    "tmedian_esn_accuracy = np.median(tesn_taccuracies)\n",
    "tstd_esn_accuracy = np.std(tesn_taccuracies)"
   ]
  },
  {
   "cell_type": "code",
   "execution_count": 23,
   "id": "moderate-ballet",
   "metadata": {},
   "outputs": [
    {
     "data": {
      "text/plain": [
       "(534682.5, 2.924155016355841e-08)"
      ]
     },
     "execution_count": 23,
     "metadata": {},
     "output_type": "execute_result"
    }
   ],
   "source": [
    "w, p = scipy.stats.mannwhitneyu(tesn_taccuracies, tlstm_taccuracies)\n",
    "w, p"
   ]
  },
  {
   "cell_type": "code",
   "execution_count": 24,
   "id": "solar-clark",
   "metadata": {},
   "outputs": [
    {
     "data": {
      "text/plain": [
       "(0.939468883888477, 0.10238891025565672, 0.9593823715551464)"
      ]
     },
     "execution_count": 24,
     "metadata": {},
     "output_type": "execute_result"
    }
   ],
   "source": [
    "tmean_lstm_accuracy, tstd_lstm_accuracy, tmedian_lstm_accuracy"
   ]
  },
  {
   "cell_type": "code",
   "execution_count": 25,
   "id": "violent-chester",
   "metadata": {},
   "outputs": [
    {
     "data": {
      "text/plain": [
       "(0.944533451749361, 0.02691797835826046, 0.9540010432494304)"
      ]
     },
     "execution_count": 25,
     "metadata": {},
     "output_type": "execute_result"
    }
   ],
   "source": [
    "tmean_esn_accuracy, tstd_esn_accuracy, tmedian_esn_accuracy"
   ]
  },
  {
   "cell_type": "markdown",
   "id": "differential-memorabilia",
   "metadata": {},
   "source": [
    "# WER"
   ]
  },
  {
   "cell_type": "code",
   "execution_count": 8,
   "id": "brilliant-plenty",
   "metadata": {},
   "outputs": [],
   "source": [
    "import itertools\n",
    "from collections import Counter\n",
    "\n",
    "def group(seq, min_frame_nb=0, exclude=(\"SIL\", \"TRASH\")):\n",
    "    \"\"\"\n",
    "    Group all consecutive equivalent labels in a discrete\n",
    "    time sequence into a single label,\n",
    "    with number of frames grouped attached. All groups of\n",
    "    consecutive predictions\n",
    "    composed of N < min_frame_nb items will be removed.\n",
    "    \"\"\"\n",
    "    # first grouping\n",
    "    newseq = [s for s in seq if s not in exclude]\n",
    "    newseq = [list(g) for k, g in itertools.groupby(newseq)]\n",
    "    newseq = [rseq for rseq in newseq\n",
    "              if len(rseq) >= min_frame_nb]\n",
    "\n",
    "    newseq = flatten(newseq)\n",
    "\n",
    "    grouped_sequence = [(k, len(list(g))) for k, g in itertools.groupby(newseq)]\n",
    "\n",
    "    return grouped_sequence\n",
    "\n",
    "\n",
    "def majority_vote(seq, win_length=1, exclude=(\"SIL\", \"TRASH\")):\n",
    "\n",
    "    ss = [s for s in seq if s not in exclude]\n",
    "\n",
    "    # majority vote over sliding windows\n",
    "    new_seq = []\n",
    "    for win in ngrams(seq, win_length):\n",
    "        counts = Counter(win).most_common()\n",
    "        new_seq.append(counts[0][0])\n",
    "\n",
    "    return new_seq\n",
    "\n",
    "\n",
    "def lev_dist(s, t):\n",
    "    \"\"\"\n",
    "    Levenshtein distance between two sequences S and T.\n",
    "    Returns the minimum number of operations (insertions, substitutions, deletions)\n",
    "    to perform to perfectly match S and T.\n",
    "    \"\"\"\n",
    "\n",
    "    v0 = np.arange(len(t)+1)\n",
    "    v1 = np.zeros(len(t)+1)\n",
    "\n",
    "    for i in range(0, len(s)):\n",
    "        v1[0] = i + 1\n",
    "\n",
    "        for j in range(0, len(t)):\n",
    "            delcost = v0[j+1] + 1  # deletions\n",
    "            incost = v1[j] + 1  # insertions\n",
    "            if s[i] == t[j]:\n",
    "                subcost = v0[j]  # substitutions\n",
    "            else:\n",
    "                subcost = v0[j] + 1\n",
    "\n",
    "            v1[j + 1] = min([delcost, incost, subcost])\n",
    "\n",
    "        v0, v1 = v1, v0\n",
    "\n",
    "    return v0[len(t)]\n",
    "\n",
    "\n",
    "def word_error_rate(true, pred):\n",
    "\n",
    "    edit_dist = lev_dist(pred, true)\n",
    "\n",
    "    return edit_dist / len(true)\n",
    "\n",
    "\n",
    "def flatten(lists):\n",
    "    \"\"\"\n",
    "    Flatten a list of lists into a simple list.\n",
    "    \"\"\"\n",
    "    flat = []\n",
    "    for ls in lists:\n",
    "        for e in ls:\n",
    "            flat.append(e)\n",
    "    return flat\n",
    "\n",
    "\n",
    "def ngrams(seq, n=1):\n",
    "    \"\"\"\n",
    "    Generate ngrams from a sequence.\n",
    "    \"\"\"\n",
    "    for i in range(len(seq)-n+1):\n",
    "        yield tuple(seq[i:i+n])\n"
   ]
  },
  {
   "cell_type": "code",
   "execution_count": 9,
   "id": "martial-leeds",
   "metadata": {},
   "outputs": [],
   "source": [
    "song_data = glob.glob(\"../data/marron1/data/*.csv\")\n",
    "\n",
    "dfs = []\n",
    "for song_file in song_data:\n",
    "    dfs.append(pd.read_csv(song_file))\n",
    "    \n",
    "correction_file = glob.glob(\"../data/marron1/*correction*\")\n",
    "with open(correction_file[0], \"r\") as fp:\n",
    "    corrections = json.load(fp)\n",
    "\n",
    "joined = []\n",
    "for df in dfs:\n",
    "    df.replace(to_replace=corrections[\"syll\"], inplace=True)\n",
    "    \n",
    "    df['diff'] = df[\"start\"] - df.shift()[\"end\"]\n",
    "\n",
    "    first_consecutives = df[(df[\"syll\"].shift(-1) == df[\"syll\"])\n",
    "                            & ~(df[\"syll\"].isin([\"cri\", \"TRASH\"]))\n",
    "                            & (df[\"diff\"] < 0.5)]\n",
    "\n",
    "    last_consecutives = df.loc[first_consecutives.index + 1]\n",
    "    \n",
    "    new_ends = df.loc[last_consecutives.index, \"end\"].values\n",
    "    df.at[first_consecutives.index, \"end\"] = new_ends\n",
    "    df = df.drop(last_consecutives.index, axis=0).reset_index(drop=True)\n",
    "    df.drop(['diff'], axis=1, inplace=True)\n",
    "    \n",
    "    df.drop(df[df[\"syll\"] == \"DELETE\"].index, inplace=True, axis=0)\n",
    "    \n",
    "    joined.append(df)\n",
    "\n",
    "df = pd.concat(joined)\n",
    "df[\"duration\"] = df[\"end\"] - df[\"start\"]\n",
    "min_phrase_len = round(df[\"duration\"].min() * 44100 / 512)\n",
    "min_avg_phrase_len = round(df.groupby(\"syll\")[\"duration\"].mean().min() * 44100 / 512)\n",
    "\n",
    "df_notrash = df[df[\"syll\"] != \"TRASH\"]\n",
    "min_percent_len = round(df_notrash[df_notrash[\"duration\"] <= df_notrash.quantile(.01)[\"duration\"]])"
   ]
  },
  {
   "cell_type": "code",
   "execution_count": 10,
   "id": "hidden-vampire",
   "metadata": {},
   "outputs": [
    {
     "data": {
      "text/html": [
       "<div>\n",
       "<style scoped>\n",
       "    .dataframe tbody tr th:only-of-type {\n",
       "        vertical-align: middle;\n",
       "    }\n",
       "\n",
       "    .dataframe tbody tr th {\n",
       "        vertical-align: top;\n",
       "    }\n",
       "\n",
       "    .dataframe thead th {\n",
       "        text-align: right;\n",
       "    }\n",
       "</style>\n",
       "<table border=\"1\" class=\"dataframe\">\n",
       "  <thead>\n",
       "    <tr style=\"text-align: right;\">\n",
       "      <th></th>\n",
       "      <th>wave</th>\n",
       "      <th>start</th>\n",
       "      <th>end</th>\n",
       "      <th>syll</th>\n",
       "      <th>repertoire_file</th>\n",
       "      <th>duration</th>\n",
       "    </tr>\n",
       "  </thead>\n",
       "  <tbody>\n",
       "    <tr>\n",
       "      <th>6</th>\n",
       "      <td>208_marron1_May_29_2016_48178338.wav</td>\n",
       "      <td>7.348470</td>\n",
       "      <td>7.392325</td>\n",
       "      <td>J2</td>\n",
       "      <td>J3-324068-326002-208_marron1_May_29_2016_48178338</td>\n",
       "      <td>0.043855</td>\n",
       "    </tr>\n",
       "    <tr>\n",
       "      <th>14</th>\n",
       "      <td>471_marron1_May_23_2016_67423776.wav</td>\n",
       "      <td>15.826000</td>\n",
       "      <td>15.867000</td>\n",
       "      <td>J2</td>\n",
       "      <td>J3-697927-699735-471_marron1_May_23_2016_67423776</td>\n",
       "      <td>0.041000</td>\n",
       "    </tr>\n",
       "    <tr>\n",
       "      <th>32</th>\n",
       "      <td>106_marron1_May_25_2016_22908212.wav</td>\n",
       "      <td>22.855000</td>\n",
       "      <td>22.894000</td>\n",
       "      <td>J2</td>\n",
       "      <td>J3-1007906-1009626-106_marron1_May_25_2016_229...</td>\n",
       "      <td>0.039000</td>\n",
       "    </tr>\n",
       "    <tr>\n",
       "      <th>37</th>\n",
       "      <td>106_marron1_May_25_2016_22908212.wav</td>\n",
       "      <td>25.460680</td>\n",
       "      <td>25.506000</td>\n",
       "      <td>J1</td>\n",
       "      <td>Ji-1122816-1124815-106_marron1_May_25_2016_229...</td>\n",
       "      <td>0.045320</td>\n",
       "    </tr>\n",
       "    <tr>\n",
       "      <th>17</th>\n",
       "      <td>522_marron1_June_07_2016_64188680.wav</td>\n",
       "      <td>17.852951</td>\n",
       "      <td>17.896953</td>\n",
       "      <td>J2</td>\n",
       "      <td>J3-787316-789256-522_marron1_June_07_2016_6418...</td>\n",
       "      <td>0.044002</td>\n",
       "    </tr>\n",
       "    <tr>\n",
       "      <th>3</th>\n",
       "      <td>547_marron1_June_15_2016_57686110.wav</td>\n",
       "      <td>6.030574</td>\n",
       "      <td>6.063679</td>\n",
       "      <td>J2</td>\n",
       "      <td>J3-265949-267409-547_marron1_June_15_2016_5768...</td>\n",
       "      <td>0.033105</td>\n",
       "    </tr>\n",
       "    <tr>\n",
       "      <th>3</th>\n",
       "      <td>387_marron1_June_13_2016_59006195.wav</td>\n",
       "      <td>6.407000</td>\n",
       "      <td>6.447000</td>\n",
       "      <td>J2</td>\n",
       "      <td>J3-282549-284313-387_marron1_June_13_2016_5900...</td>\n",
       "      <td>0.040000</td>\n",
       "    </tr>\n",
       "  </tbody>\n",
       "</table>\n",
       "</div>"
      ],
      "text/plain": [
       "                                     wave      start        end syll  \\\n",
       "6    208_marron1_May_29_2016_48178338.wav   7.348470   7.392325   J2   \n",
       "14   471_marron1_May_23_2016_67423776.wav  15.826000  15.867000   J2   \n",
       "32   106_marron1_May_25_2016_22908212.wav  22.855000  22.894000   J2   \n",
       "37   106_marron1_May_25_2016_22908212.wav  25.460680  25.506000   J1   \n",
       "17  522_marron1_June_07_2016_64188680.wav  17.852951  17.896953   J2   \n",
       "3   547_marron1_June_15_2016_57686110.wav   6.030574   6.063679   J2   \n",
       "3   387_marron1_June_13_2016_59006195.wav   6.407000   6.447000   J2   \n",
       "\n",
       "                                      repertoire_file  duration  \n",
       "6   J3-324068-326002-208_marron1_May_29_2016_48178338  0.043855  \n",
       "14  J3-697927-699735-471_marron1_May_23_2016_67423776  0.041000  \n",
       "32  J3-1007906-1009626-106_marron1_May_25_2016_229...  0.039000  \n",
       "37  Ji-1122816-1124815-106_marron1_May_25_2016_229...  0.045320  \n",
       "17  J3-787316-789256-522_marron1_June_07_2016_6418...  0.044002  \n",
       "3   J3-265949-267409-547_marron1_June_15_2016_5768...  0.033105  \n",
       "3   J3-282549-284313-387_marron1_June_13_2016_5900...  0.040000  "
      ]
     },
     "execution_count": 10,
     "metadata": {},
     "output_type": "execute_result"
    }
   ],
   "source": [
    "df_notrash[df_notrash[\"duration\"] <= 0.046]"
   ]
  },
  {
   "cell_type": "code",
   "execution_count": 29,
   "id": "suffering-builder",
   "metadata": {},
   "outputs": [],
   "source": [
    "min_percent_lengths = (min_percent_len[\"duration\"] * 44100 / 512).values"
   ]
  },
  {
   "cell_type": "code",
   "execution_count": 30,
   "id": "turned-mistake",
   "metadata": {},
   "outputs": [],
   "source": [
    "lstm_wers = []\n",
    "for met in all_lstm_metrics:\n",
    "    wer = np.array([list(m[\"wer\"].values()) for m in met.values()])\n",
    "    lstm_wers.append(wer)\n",
    "    \n",
    "esn_wers = []\n",
    "for met in all_esn_metrics:\n",
    "    wer = np.array([list(m[\"wer\"].values()) for m in met.values()])\n",
    "    esn_wers.append(wer)\n",
    "\n",
    "lstm_wers = np.vstack(lstm_wers)\n",
    "mean_lstm_wers = lstm_wers.mean(axis=0)[1:]\n",
    "std_lstm_wers = lstm_wers.std(axis=0)[1:]\n",
    "\n",
    "esn_wers = np.vstack(esn_wers)\n",
    "mean_esn_wers = esn_wers.mean(axis=0)[1:]\n",
    "std_esn_wers = esn_wers.std(axis=0)[1:]"
   ]
  },
  {
   "cell_type": "code",
   "execution_count": 31,
   "id": "handed-growing",
   "metadata": {},
   "outputs": [
    {
     "data": {
      "text/plain": [
       "array([[0.86363636, 0.86363636, 0.86363636, ..., 0.86363636, 0.86363636,\n",
       "        0.86363636],\n",
       "       [0.92592593, 0.92592593, 0.92592593, ..., 0.88888889, 0.88888889,\n",
       "        0.88888889],\n",
       "       [0.78125   , 0.78125   , 0.78125   , ..., 0.84375   , 0.84375   ,\n",
       "        0.84375   ],\n",
       "       ...,\n",
       "       [0.9047619 , 0.9047619 , 0.9047619 , ..., 0.85714286, 0.85714286,\n",
       "        0.85714286],\n",
       "       [1.4       , 1.4       , 1.4       , ..., 1.        , 1.        ,\n",
       "        1.        ],\n",
       "       [0.76      , 0.76      , 0.76      , ..., 0.8       , 0.8       ,\n",
       "        0.8       ]])"
      ]
     },
     "execution_count": 31,
     "metadata": {},
     "output_type": "execute_result"
    }
   ],
   "source": [
    "esn_wers"
   ]
  },
  {
   "cell_type": "code",
   "execution_count": 32,
   "id": "legendary-earth",
   "metadata": {
    "scrolled": true
   },
   "outputs": [
    {
     "data": {
      "image/png": "[encoded data removed]",
      "text/plain": [
       "<Figure size 345.6x223.2 with 1 Axes>"
      ]
     },
     "metadata": {
      "needs_background": "light"
     },
     "output_type": "display_data"
    }
   ],
   "source": [
    "fig = plt.figure(figsize=(4.8, 3.1))\n",
    "\n",
    "plt.plot(np.arange(len(mean_lstm_wers)) + 1, mean_lstm_wers, color=\"red\", lw=1, label=\"LSTM mean\")\n",
    "plt.ylabel(\"WER\", size=11)\n",
    "plt.xlabel(\"Min. frame number\", size=11)\n",
    "plt.fill_between(np.arange(len(mean_lstm_wers)) + 1, mean_lstm_wers + std_lstm_wers, mean_lstm_wers - std_lstm_wers, \n",
    "                 alpha=0.1, color=\"red\")\n",
    "\n",
    "plt.plot(np.arange(len(mean_lstm_wers)) + 1, mean_esn_wers, color=\"blue\", lw=1, label=\"ESN mean\")\n",
    "plt.ylabel(\"WER\", size=11)\n",
    "plt.xlabel(\"Min. frame number\", size=11)\n",
    "plt.fill_between(np.arange(len(mean_esn_wers)) + 1, mean_esn_wers + std_esn_wers, mean_esn_wers - std_esn_wers, \n",
    "                 alpha=0.1, color=\"blue\", label=\"\")\n",
    "\n",
    "plt.axvline(min_phrase_len, linestyle=\"--\", color=\"gray\", label=\"Min. phrase length\")\n",
    "\n",
    "for i, v in enumerate(min_percent_lengths):\n",
    "    if i == 0:\n",
    "        plt.axvline(v, alpha=1, zorder=0, color=\"gray\", label=\"1% shortest phrases\")\n",
    "        continue\n",
    "    plt.axvline(v, alpha=0.1, zorder=0, color=\"gray\")\n",
    "\n",
    "plt.legend(frameon=False, fontsize=8)\n",
    "\n",
    "plt.ylim(0.6, 1.7)\n",
    "plt.xlim(1, 30)\n",
    "\n",
    "plt.xticks([1, 5, 10, 15, 20, 25, 30])\n",
    "plt.tick_params(axis=\"both\", labelsize=10)\n",
    "\n",
    "plt.savefig(\"../figures/wer.pdf\")\n",
    "plt.savefig(\"../figures/wer.png\")"
   ]
  },
  {
   "cell_type": "markdown",
   "id": "smart-lover",
   "metadata": {},
   "source": [
    "# F1 + confusion\n",
    "\n",
    "## LSTM"
   ]
  },
  {
   "cell_type": "code",
   "execution_count": 25,
   "id": "architectural-departure",
   "metadata": {},
   "outputs": [
    {
     "data": {
      "text/plain": [
       "(1835, 11010, 6460, 16560)"
      ]
     },
     "execution_count": 25,
     "metadata": {},
     "output_type": "execute_result"
    }
   ],
   "source": [
    "lstm_pred_files = glob.glob(\"../reports/marron1/lstm-2/cv/*/preds*/*.npz\")\n",
    "esn_pred_files = glob.glob(\"../reports/marron1/esn-4/cv/*/preds*/*.npz\")\n",
    "\n",
    "lstm_red_files = glob.glob(\"../reports/marron1/lstm-2/reduced/*/preds*/*.npz\")\n",
    "esn_red_files = glob.glob(\"../reports/marron1/esn-4/reduced/*/preds*/*.npz\")\n",
    "\n",
    "len(lstm_pred_files), len(esn_pred_files), len(lstm_red_files), len(esn_red_files)"
   ]
  },
  {
   "cell_type": "code",
   "execution_count": 26,
   "id": "monthly-harmony",
   "metadata": {},
   "outputs": [],
   "source": [
    "y_lstm = []\n",
    "yh_lstm = []\n",
    "for m in lstm_pred_files:\n",
    "    data = np.load(m)\n",
    "    y = data[\"targets\"]\n",
    "    yh = data[\"top_1\"]\n",
    "    yh_lstm.append(yh)\n",
    "    y_lstm.append(y)\n",
    "    \n",
    "y_esn = []\n",
    "yh_esn = []\n",
    "for m in esn_pred_files:\n",
    "    data = np.load(m)\n",
    "    y = data[\"targets\"]\n",
    "    yh = data[\"top_1\"]\n",
    "    yh_esn.append(yh)\n",
    "    y_esn.append(y)"
   ]
  },
  {
   "cell_type": "code",
   "execution_count": 27,
   "id": "complete-connection",
   "metadata": {},
   "outputs": [
    {
     "name": "stdout",
     "output_type": "stream",
     "text": [
      "              precision    recall  f1-score   support\n",
      "\n",
      "           A     0.9687    0.9675    0.9681    268160\n",
      "          B1     0.9392    0.9504    0.9448    253090\n",
      "          B2     0.9261    0.9505    0.9381    250820\n",
      "           C     0.9619    0.9540    0.9580    140545\n",
      "          Ci     0.8751    0.8516    0.8632     36190\n",
      "           D     0.9651    0.9598    0.9625    105215\n",
      "           E     0.9602    0.9631    0.9617    178825\n",
      "           H     0.9291    0.9361    0.9326     82850\n",
      "           I     0.8810    0.7890    0.8325     18160\n",
      "          J1     0.9454    0.9347    0.9400    301175\n",
      "          J2     0.9323    0.9264    0.9294    277165\n",
      "           K     0.9062    0.9109    0.9085     38970\n",
      "          K2     0.8891    0.8941    0.8916     23230\n",
      "           L     0.9598    0.9711    0.9654    137690\n",
      "          L2     0.8265    0.0489    0.0924      1655\n",
      "           M     0.9713    0.9721    0.9717    118160\n",
      "           N     0.9660    0.9755    0.9707    468195\n",
      "           O     0.9012    0.9015    0.9013    138455\n",
      "           P     0.9474    0.9248    0.9360     58580\n",
      "           Q     0.9419    0.9544    0.9481    127335\n",
      "           R     0.9454    0.9559    0.9506    163350\n",
      "           S     0.9340    0.8868    0.9098     17025\n",
      "         SIL     0.8824    0.8858    0.8841    573165\n",
      "           T     0.9561    0.8492    0.8995     15400\n",
      "       TRASH     0.4737    0.0020    0.0040      4500\n",
      "           U     0.9396    0.9459    0.9427     30980\n",
      "           V     0.9403    0.9553    0.9478    116815\n",
      "           X     0.9671    0.9693    0.9682     20280\n",
      "           Z     0.8497    0.8313    0.8404    133065\n",
      "         cri     0.8643    0.8352    0.8495     65395\n",
      "\n",
      "    accuracy                         0.9333   4164440\n",
      "   macro avg     0.9115    0.8618    0.8671   4164440\n",
      "weighted avg     0.9326    0.9333    0.9325   4164440\n",
      "\n"
     ]
    }
   ],
   "source": [
    "print(metrics.classification_report(np.hstack(y_lstm), np.hstack(yh_lstm), digits=4))"
   ]
  },
  {
   "cell_type": "code",
   "execution_count": 46,
   "id": "cf7bf431",
   "metadata": {},
   "outputs": [],
   "source": [
    "lstm_accs_nosil = []\n",
    "for i in range(len(y_lstm)):\n",
    "    idx = ~(y_lstm[i] == \"SIL\") & ~(y_lstm[i] == \"cri\") & ~(y_lstm[i] == \"TRASH\")\n",
    "    lstm_accs_nosil.append(metrics.accuracy_score(y_lstm[i][idx], yh_lstm[i][idx]))\n",
    "    \n",
    "esn_accs_nosil = []\n",
    "for i in range(len(y_esn)):\n",
    "    idx = ~(y_esn[i] == \"SIL\") & ~(y_esn[i] == \"cri\") & ~(y_esn[i] == \"TRASH\")\n",
    "    esn_accs_nosil.append(metrics.accuracy_score(y_esn[i][idx], yh_esn[i][idx]))"
   ]
  },
  {
   "cell_type": "code",
   "execution_count": 47,
   "id": "8c8ba459",
   "metadata": {},
   "outputs": [
    {
     "data": {
      "text/plain": [
       "(0.9411291690635006, 0.9470255170785017)"
      ]
     },
     "execution_count": 47,
     "metadata": {},
     "output_type": "execute_result"
    }
   ],
   "source": [
    "np.mean(lstm_accs_nosil), np.mean(esn_accs_nosil)"
   ]
  },
  {
   "cell_type": "code",
   "execution_count": 48,
   "id": "3106d142",
   "metadata": {},
   "outputs": [
    {
     "data": {
      "text/plain": [
       "(0.1090525010712733, 0.09813200851537904)"
      ]
     },
     "execution_count": 48,
     "metadata": {},
     "output_type": "execute_result"
    }
   ],
   "source": [
    "np.std(lstm_accs_nosil), np.std(esn_accs_nosil)"
   ]
  },
  {
   "cell_type": "code",
   "execution_count": 55,
   "id": "1ca49faf",
   "metadata": {},
   "outputs": [],
   "source": [
    "lstm_trans = []\n",
    "for i in range(len(yh_lstm)):\n",
    "    s_trans = 0\n",
    "    for j in range(1, len(yh_lstm[i])):\n",
    "        if yh_lstm[i][j-1] != yh_lstm[i][j]:\n",
    "            s_trans += 1\n",
    "    lstm_trans.append(s_trans)"
   ]
  },
  {
   "cell_type": "code",
   "execution_count": 57,
   "id": "ef3382fc",
   "metadata": {},
   "outputs": [
    {
     "data": {
      "text/plain": [
       "(73.06430517711172, 34.77706667053152)"
      ]
     },
     "execution_count": 57,
     "metadata": {},
     "output_type": "execute_result"
    }
   ],
   "source": [
    "np.mean(lstm_trans), np.std(lstm_trans)"
   ]
  },
  {
   "cell_type": "code",
   "execution_count": 60,
   "id": "7ffaaee5",
   "metadata": {},
   "outputs": [],
   "source": [
    "esn_trans = []\n",
    "for i in range(len(yh_esn)):\n",
    "    s_trans = 0\n",
    "    for j in range(1, len(yh_esn[i])):\n",
    "        if yh_esn[i][j-1] != yh_esn[i][j]:\n",
    "            s_trans += 1\n",
    "    esn_trans.append(s_trans)"
   ]
  },
  {
   "cell_type": "code",
   "execution_count": 61,
   "id": "863046b9",
   "metadata": {},
   "outputs": [
    {
     "data": {
      "text/plain": [
       "(48.083560399636696, 22.288568862684397)"
      ]
     },
     "execution_count": 61,
     "metadata": {},
     "output_type": "execute_result"
    }
   ],
   "source": [
    "np.mean(esn_trans), np.std(esn_trans)"
   ]
  },
  {
   "cell_type": "code",
   "execution_count": 28,
   "id": "chemical-assistant",
   "metadata": {},
   "outputs": [
    {
     "name": "stderr",
     "output_type": "stream",
     "text": [
      "100%|██████████| 1835/1835 [00:07<00:00, 240.01it/s]\n"
     ]
    }
   ],
   "source": [
    "lstm_wers = []\n",
    "for yy, yyh in zip(tqdm(y_lstm), yh_lstm):\n",
    "    yh = group(yy, exclude=(\"SIL\", \"TRASH\", \"cri\"))\n",
    "    yhlbl = [u[0] for u in yh]\n",
    "    y = group(yyh, exclude=(\"SIL\", \"TRASH\", \"cri\"))\n",
    "    ylbl = [u[0] for u in y]\n",
    "    lstm_wers.append(word_error_rate(ylbl, yhlbl))"
   ]
  },
  {
   "cell_type": "code",
   "execution_count": 29,
   "id": "prescription-specification",
   "metadata": {},
   "outputs": [
    {
     "data": {
      "text/plain": [
       "(0.27383075255744405, 0.16184723908057264)"
      ]
     },
     "execution_count": 29,
     "metadata": {},
     "output_type": "execute_result"
    }
   ],
   "source": [
    "lstm_global_mean_wer = np.mean(lstm_wers)\n",
    "lstm_global_std_wer = np.std(lstm_wers)\n",
    "\n",
    "lstm_global_mean_wer, lstm_global_std_wer"
   ]
  },
  {
   "cell_type": "code",
   "execution_count": 30,
   "id": "exempt-scoop",
   "metadata": {},
   "outputs": [
    {
     "name": "stderr",
     "output_type": "stream",
     "text": [
      "/home/nathan/Bureau/canary/canary-decoder-paper/venv/lib/python3.8/site-packages/sklearn/metrics/_classification.py:1248: UndefinedMetricWarning: Precision and F-score are ill-defined and being set to 0.0 in labels with no predicted samples. Use `zero_division` parameter to control this behavior.\n",
      "  _warn_prf(average, modifier, msg_start, len(result))\n",
      "/home/nathan/Bureau/canary/canary-decoder-paper/venv/lib/python3.8/site-packages/sklearn/metrics/_classification.py:1248: UndefinedMetricWarning: Precision and F-score are ill-defined and being set to 0.0 in labels with no predicted samples. Use `zero_division` parameter to control this behavior.\n",
      "  _warn_prf(average, modifier, msg_start, len(result))\n"
     ]
    },
    {
     "name": "stdout",
     "output_type": "stream",
     "text": [
      "              precision    recall  f1-score   support\n",
      "\n",
      "           A     0.9745    0.9704    0.9725   1525170\n",
      "          B1     0.9455    0.9589    0.9522   1482870\n",
      "          B2     0.9281    0.9610    0.9443   1463700\n",
      "           C     0.9731    0.9542    0.9635    818190\n",
      "          Ci     0.9157    0.8494    0.8813    211650\n",
      "           D     0.9423    0.9706    0.9562    643950\n",
      "           E     0.9532    0.9710    0.9620   1036800\n",
      "           H     0.9341    0.9337    0.9339    489210\n",
      "           I     0.9496    0.7927    0.8641    107970\n",
      "          J1     0.9573    0.9346    0.9458   1756980\n",
      "          J2     0.9371    0.9308    0.9340   1560810\n",
      "           K     0.9230    0.8939    0.9082    231270\n",
      "          K2     0.9055    0.9192    0.9123    139470\n",
      "           L     0.9611    0.9782    0.9696    825840\n",
      "          L2     0.9090    0.1297    0.2270      9930\n",
      "           M     0.9772    0.9772    0.9772    715200\n",
      "           N     0.9665    0.9785    0.9724   2683440\n",
      "           O     0.8918    0.9237    0.9075    803520\n",
      "           P     0.9628    0.9412    0.9518    339330\n",
      "           Q     0.9380    0.9652    0.9514    766710\n",
      "           R     0.9403    0.9697    0.9548    965370\n",
      "           S     0.9384    0.8852    0.9110    103440\n",
      "         SIL     0.8776    0.8769    0.8772   3420960\n",
      "           T     0.9687    0.8805    0.9225     99900\n",
      "       TRASH     0.0000    0.0000    0.0000     28950\n",
      "           U     0.9555    0.9640    0.9597    213360\n",
      "           V     0.9205    0.9759    0.9474    665610\n",
      "           X     0.9674    0.9795    0.9734    121620\n",
      "           Z     0.8805    0.8002    0.8385    829620\n",
      "         cri     0.8967    0.8167    0.8548    371130\n",
      "\n",
      "    accuracy                         0.9359  24431970\n",
      "   macro avg     0.9064    0.8694    0.8776  24431970\n",
      "weighted avg     0.9346    0.9359    0.9349  24431970\n",
      "\n"
     ]
    },
    {
     "name": "stderr",
     "output_type": "stream",
     "text": [
      "/home/nathan/Bureau/canary/canary-decoder-paper/venv/lib/python3.8/site-packages/sklearn/metrics/_classification.py:1248: UndefinedMetricWarning: Precision and F-score are ill-defined and being set to 0.0 in labels with no predicted samples. Use `zero_division` parameter to control this behavior.\n",
      "  _warn_prf(average, modifier, msg_start, len(result))\n"
     ]
    }
   ],
   "source": [
    "print(metrics.classification_report(np.hstack(y_esn), np.hstack(yh_esn), digits=4))"
   ]
  },
  {
   "cell_type": "code",
   "execution_count": 31,
   "id": "respective-singing",
   "metadata": {},
   "outputs": [
    {
     "name": "stderr",
     "output_type": "stream",
     "text": [
      "100%|██████████| 11010/11010 [00:34<00:00, 321.98it/s]\n"
     ]
    }
   ],
   "source": [
    "esn_wers = []\n",
    "for yy, yyh in zip(tqdm(y_esn), yh_esn):\n",
    "    yh = group(yy, exclude=(\"SIL\", \"TRASH\", \"cri\"))\n",
    "    yhlbl = [u[0] for u in yh]\n",
    "    y = group(yyh, exclude=(\"SIL\", \"TRASH\", \"cri\"))\n",
    "    ylbl = [u[0] for u in y]\n",
    "    esn_wers.append(word_error_rate(ylbl, yhlbl))"
   ]
  },
  {
   "cell_type": "code",
   "execution_count": 32,
   "id": "colored-migration",
   "metadata": {},
   "outputs": [
    {
     "data": {
      "text/plain": [
       "(0.05334323556654554, 0.07228358656082542)"
      ]
     },
     "execution_count": 32,
     "metadata": {},
     "output_type": "execute_result"
    }
   ],
   "source": [
    "esn_global_mean_wer = np.mean(esn_wers)\n",
    "esn_global_std_wer = np.std(esn_wers)\n",
    "\n",
    "esn_global_mean_wer, esn_global_std_wer"
   ]
  },
  {
   "cell_type": "code",
   "execution_count": 160,
   "id": "lyric-personality",
   "metadata": {},
   "outputs": [],
   "source": [
    "yhs = []\n",
    "ys = []\n",
    "for m in pred_files:\n",
    "    data = np.load(m)\n",
    "    yh = data[\"top_1\"]\n",
    "    y = data[\"targets\"]\n",
    "    \n",
    "    yhs.extend(yh)\n",
    "    ys.extend(y)"
   ]
  },
  {
   "cell_type": "code",
   "execution_count": 164,
   "id": "authentic-locator",
   "metadata": {},
   "outputs": [],
   "source": [
    "syllables = unique_labels(ys)\n",
    "cm = metrics.confusion_matrix(ys, yhs, labels=syllables, normalize=\"true\")"
   ]
  },
  {
   "cell_type": "code",
   "execution_count": 116,
   "id": "funny-peter",
   "metadata": {},
   "outputs": [],
   "source": [
    "def confusion(cm, syllables):\n",
    "    fig = plt.figure(figsize=(7, 7))\n",
    "    \n",
    "    ax1 = fig.add_subplot(111)\n",
    "    plt.xlabel(\"Predictions\", fontsize=11)\n",
    "    plt.ylabel(\"Truths\", fontsize=11)\n",
    "    ax1.xaxis.set_label_position('top') \n",
    "    im = ax1.matshow(cm, cmap=\"Blues\", norm=matplotlib.colors.LogNorm(vmin=1e-3, vmax=1.0))\n",
    "\n",
    "    ax1.set_xticks(np.arange(len(syllables)))\n",
    "    ax1.set_yticks(np.arange(len(syllables)))\n",
    "\n",
    "    ax1.set_xticklabels(syllables)\n",
    "    ax1.set_yticklabels(syllables)\n",
    "    ax1.tick_params('x', top=True, bottom=False, labeltop=True, labelbottom=False, rotation=45)\n",
    "    ax1.tick_params(labelsize=11)\n",
    "    \n",
    "    \n",
    "    axins = inset_axes(ax1,\n",
    "                       width=\"5%\",  # width = 5% of parent_bbox width\n",
    "                       height=\"100%\",  # height : 50%\n",
    "                       loc='lower left',\n",
    "                       bbox_to_anchor=(1.005, 0., 1, 1),\n",
    "                       bbox_transform=ax1.transAxes,\n",
    "                       borderpad=0,\n",
    "                       )\n",
    "    \n",
    "    axins.tick_params(labelsize=10)\n",
    "    \n",
    "    plt.colorbar(im, cax=axins)\n",
    "    \n",
    "    plt.tight_layout()\n",
    "    \n",
    "    return fig"
   ]
  },
  {
   "cell_type": "code",
   "execution_count": 117,
   "id": "competitive-freeware",
   "metadata": {},
   "outputs": [
    {
     "name": "stderr",
     "output_type": "stream",
     "text": [
      "<ipython-input-116-b43afc7d63a4>:32: UserWarning: This figure includes Axes that are not compatible with tight_layout, so results might be incorrect.\n",
      "  plt.tight_layout()\n"
     ]
    },
    {
     "data": {
      "text/plain": [
       "<Figure size 432x288 with 0 Axes>"
      ]
     },
     "metadata": {},
     "output_type": "display_data"
    },
    {
     "data": {
      "image/png": "[encoded data removed]",
      "text/plain": [
       "<Figure size 504x504 with 2 Axes>"
      ]
     },
     "metadata": {
      "needs_background": "light"
     },
     "output_type": "display_data"
    }
   ],
   "source": [
    "plt.clf()\n",
    "fig = confusion(cm, syllables)\n",
    "fig.savefig(\"../figures/lstm-confusion.pdf\")\n",
    "fig.savefig(\"../figures/lstm-confusion.png\")"
   ]
  },
  {
   "cell_type": "code",
   "execution_count": 118,
   "id": "painted-collection",
   "metadata": {},
   "outputs": [],
   "source": [
    "f1 = metrics.f1_score(ys, yhs, average=\"macro\")"
   ]
  },
  {
   "cell_type": "code",
   "execution_count": 119,
   "id": "current-daily",
   "metadata": {},
   "outputs": [
    {
     "data": {
      "text/plain": [
       "0.8671043881458025"
      ]
     },
     "execution_count": 119,
     "metadata": {},
     "output_type": "execute_result"
    }
   ],
   "source": [
    "f1"
   ]
  },
  {
   "cell_type": "markdown",
   "id": "married-flesh",
   "metadata": {},
   "source": [
    "## LSTM time"
   ]
  },
  {
   "cell_type": "code",
   "execution_count": 120,
   "id": "durable-dakota",
   "metadata": {},
   "outputs": [],
   "source": [
    "time_files = glob.glob(\"../reports/marron1/lstm-2/cv/*/duration*\")"
   ]
  },
  {
   "cell_type": "code",
   "execution_count": 121,
   "id": "smooth-guess",
   "metadata": {},
   "outputs": [],
   "source": [
    "all_durations = []\n",
    "for m in time_files:\n",
    "    with open(m, \"r\") as fp:\n",
    "        all_durations.append(json.load(fp)[\"duration\"])"
   ]
  },
  {
   "cell_type": "code",
   "execution_count": 122,
   "id": "limiting-fundamentals",
   "metadata": {},
   "outputs": [
    {
     "data": {
      "text/plain": [
       "(2930.2318060588836, 222.81647784144985)"
      ]
     },
     "execution_count": 122,
     "metadata": {},
     "output_type": "execute_result"
    }
   ],
   "source": [
    "dur = np.mean(all_durations)\n",
    "std_dur = np.std(all_durations)\n",
    "dur, std_dur"
   ]
  },
  {
   "cell_type": "code",
   "execution_count": 123,
   "id": "manual-browser",
   "metadata": {},
   "outputs": [
    {
     "data": {
      "text/plain": [
       "25"
      ]
     },
     "execution_count": 123,
     "metadata": {},
     "output_type": "execute_result"
    }
   ],
   "source": [
    "epochs = np.array([ # copied from Tensorboard logs\n",
    "    194, 178, 292, 205, 270, 164, 135, 218, 220, 175, 224, 218,\n",
    "    146, 225, 231, 152, 230, 202, 164, 225, 210, 191, 194, 175, 198]) - 20 # minus patience\n",
    " \n",
    "len(epochs)"
   ]
  },
  {
   "cell_type": "code",
   "execution_count": 124,
   "id": "removed-catalog",
   "metadata": {},
   "outputs": [
    {
     "data": {
      "text/plain": [
       "(181.44, 35.835267544696805)"
      ]
     },
     "execution_count": 124,
     "metadata": {},
     "output_type": "execute_result"
    }
   ],
   "source": [
    "np.mean(epochs), np.std(epochs)"
   ]
  },
  {
   "cell_type": "markdown",
   "id": "fiscal-election",
   "metadata": {},
   "source": [
    "## ESN"
   ]
  },
  {
   "cell_type": "code",
   "execution_count": 3,
   "id": "adolescent-occasion",
   "metadata": {},
   "outputs": [],
   "source": [
    "pred_files = glob.glob(\"../reports/marron1/esn-4/cv/*/preds*/*.npz\")"
   ]
  },
  {
   "cell_type": "code",
   "execution_count": 4,
   "id": "honey-lighter",
   "metadata": {},
   "outputs": [],
   "source": [
    "yhs = []\n",
    "ys = []\n",
    "for m in pred_files:\n",
    "    data = np.load(m)\n",
    "    yh = data[\"top_1\"]\n",
    "    y = data[\"targets\"]\n",
    "    \n",
    "    yhs.append(yh)\n",
    "    ys.append(y)"
   ]
  },
  {
   "cell_type": "code",
   "execution_count": 11,
   "id": "proper-powder",
   "metadata": {
    "scrolled": true
   },
   "outputs": [
    {
     "name": "stderr",
     "output_type": "stream",
     "text": [
      "  0%|          | 40/11010 [00:00<00:55, 196.88it/s]"
     ]
    },
    {
     "name": "stdout",
     "output_type": "stream",
     "text": [
      "1\n"
     ]
    },
    {
     "name": "stderr",
     "output_type": "stream",
     "text": [
      "100%|██████████| 11010/11010 [00:34<00:00, 318.24it/s]\n",
      "  0%|          | 28/11010 [00:00<00:41, 265.41it/s]"
     ]
    },
    {
     "name": "stdout",
     "output_type": "stream",
     "text": [
      "2\n"
     ]
    },
    {
     "name": "stderr",
     "output_type": "stream",
     "text": [
      "100%|██████████| 11010/11010 [00:34<00:00, 317.87it/s]\n",
      "  0%|          | 28/11010 [00:00<00:42, 257.52it/s]"
     ]
    },
    {
     "name": "stdout",
     "output_type": "stream",
     "text": [
      "3\n"
     ]
    },
    {
     "name": "stderr",
     "output_type": "stream",
     "text": [
      "100%|██████████| 11010/11010 [00:34<00:00, 318.14it/s]\n",
      "  0%|          | 28/11010 [00:00<00:43, 254.02it/s]"
     ]
    },
    {
     "name": "stdout",
     "output_type": "stream",
     "text": [
      "4\n"
     ]
    },
    {
     "name": "stderr",
     "output_type": "stream",
     "text": [
      "100%|██████████| 11010/11010 [00:36<00:00, 305.02it/s]\n",
      "  0%|          | 28/11010 [00:00<00:42, 259.02it/s]"
     ]
    },
    {
     "name": "stdout",
     "output_type": "stream",
     "text": [
      "5\n"
     ]
    },
    {
     "name": "stderr",
     "output_type": "stream",
     "text": [
      "100%|██████████| 11010/11010 [00:35<00:00, 309.81it/s]\n",
      "  0%|          | 28/11010 [00:00<00:42, 259.43it/s]"
     ]
    },
    {
     "name": "stdout",
     "output_type": "stream",
     "text": [
      "6\n"
     ]
    },
    {
     "name": "stderr",
     "output_type": "stream",
     "text": [
      "100%|██████████| 11010/11010 [00:35<00:00, 312.14it/s]\n",
      "  0%|          | 28/11010 [00:00<00:42, 260.57it/s]"
     ]
    },
    {
     "name": "stdout",
     "output_type": "stream",
     "text": [
      "7\n"
     ]
    },
    {
     "name": "stderr",
     "output_type": "stream",
     "text": [
      "100%|██████████| 11010/11010 [00:35<00:00, 314.47it/s]\n",
      "  0%|          | 28/11010 [00:00<00:41, 265.70it/s]"
     ]
    },
    {
     "name": "stdout",
     "output_type": "stream",
     "text": [
      "8\n"
     ]
    },
    {
     "name": "stderr",
     "output_type": "stream",
     "text": [
      "100%|██████████| 11010/11010 [00:34<00:00, 320.14it/s]\n",
      "  0%|          | 28/11010 [00:00<00:41, 263.68it/s]"
     ]
    },
    {
     "name": "stdout",
     "output_type": "stream",
     "text": [
      "9\n"
     ]
    },
    {
     "name": "stderr",
     "output_type": "stream",
     "text": [
      "100%|██████████| 11010/11010 [00:34<00:00, 318.59it/s]\n",
      "  0%|          | 28/11010 [00:00<00:40, 268.92it/s]"
     ]
    },
    {
     "name": "stdout",
     "output_type": "stream",
     "text": [
      "10\n"
     ]
    },
    {
     "name": "stderr",
     "output_type": "stream",
     "text": [
      "100%|██████████| 11010/11010 [00:34<00:00, 322.66it/s]\n",
      "  0%|          | 29/11010 [00:00<00:38, 282.76it/s]"
     ]
    },
    {
     "name": "stdout",
     "output_type": "stream",
     "text": [
      "15\n"
     ]
    },
    {
     "name": "stderr",
     "output_type": "stream",
     "text": [
      "100%|██████████| 11010/11010 [00:33<00:00, 324.40it/s]\n",
      "  1%|          | 60/11010 [00:00<00:39, 280.48it/s]"
     ]
    },
    {
     "name": "stdout",
     "output_type": "stream",
     "text": [
      "20\n"
     ]
    },
    {
     "name": "stderr",
     "output_type": "stream",
     "text": [
      "100%|██████████| 11010/11010 [00:31<00:00, 346.19it/s]\n",
      "  1%|          | 60/11010 [00:00<00:38, 283.67it/s]"
     ]
    },
    {
     "name": "stdout",
     "output_type": "stream",
     "text": [
      "25\n"
     ]
    },
    {
     "name": "stderr",
     "output_type": "stream",
     "text": [
      "100%|██████████| 11010/11010 [00:30<00:00, 359.09it/s]\n",
      "  1%|          | 62/11010 [00:00<00:38, 287.28it/s]"
     ]
    },
    {
     "name": "stdout",
     "output_type": "stream",
     "text": [
      "30\n"
     ]
    },
    {
     "name": "stderr",
     "output_type": "stream",
     "text": [
      "100%|██████████| 11010/11010 [00:29<00:00, 374.96it/s]\n"
     ]
    }
   ],
   "source": [
    "min_frames = [1, 2, 3, 4, 5, 6, 7, 8, 9, 10, 15, 20, 25, 30]\n",
    "all_wers = []\n",
    "for i in min_frames:\n",
    "    print(i)\n",
    "    wers = []\n",
    "    for yy, yyh in zip(tqdm(ys), yhs):\n",
    "        #yh = majority_vote(yyh, win_length=1)\n",
    "        yh = group(yy, min_frame_nb=i, exclude=(\"SIL\", \"TRASH\", \"cri\"))\n",
    "        yhlbl = [u[0] for u in yh]\n",
    "        #y = majority_vote(yy, win_length=1)\n",
    "        y = group(yyh, exclude=(\"SIL\", \"TRASH\", \"cri\"))\n",
    "        ylbl = [u[0] for u in y]\n",
    "\n",
    "        wers.append(word_error_rate(ylbl, yhlbl))\n",
    "    all_wers.append(wers)"
   ]
  },
  {
   "cell_type": "code",
   "execution_count": 12,
   "id": "conservative-oklahoma",
   "metadata": {},
   "outputs": [
    {
     "data": {
      "text/plain": [
       "<matplotlib.collections.PolyCollection at 0x7f2abb4ba5e0>"
      ]
     },
     "execution_count": 12,
     "metadata": {},
     "output_type": "execute_result"
    },
    {
     "data": {
      "image/png": "[encoded data removed]",
      "text/plain": [
       "<Figure size 432x288 with 1 Axes>"
      ]
     },
     "metadata": {
      "needs_background": "light"
     },
     "output_type": "display_data"
    }
   ],
   "source": [
    "wer_means = np.mean(all_wers, axis=1)\n",
    "wer_stds = np.std(all_wers, axis=1)\n",
    "\n",
    "plt.plot(min_frames, wer_means)\n",
    "plt.fill_between(min_frames, wer_means - wer_stds, wer_means + wer_stds, alpha=0.1)"
   ]
  },
  {
   "cell_type": "code",
   "execution_count": null,
   "id": "demographic-mercury",
   "metadata": {},
   "outputs": [],
   "source": [
    "palette = itertools.cycle(plt.get_cmap(\"tab10\").colors)\n",
    "colors = {\"SIL\": \"white\"}\n",
    "\n",
    "tcursor = 0\n",
    "pcursor = 0\n",
    "for t in y:\n",
    "    \n",
    "    c = colors.get(t[0], next(palette))\n",
    "    colors[t[0]] = c\n",
    "    \n",
    "    plt.hlines(0.2, tcursor, tcursor+t[1], color=c, lw=40)\n",
    "    tcursor += t[1]\n",
    "\n",
    "for p in yh:\n",
    "    \n",
    "    c = colors.get(p[0], next(palette))\n",
    "    colors[p[0]] = c\n",
    "    \n",
    "    plt.hlines(-0.2, pcursor, pcursor+p[1], color=c, lw=40)\n",
    "    pcursor += p[1]"
   ]
  },
  {
   "cell_type": "code",
   "execution_count": 162,
   "id": "after-theology",
   "metadata": {},
   "outputs": [],
   "source": [
    "yhs = []\n",
    "ys = []\n",
    "for m in pred_files:\n",
    "    data = np.load(m)\n",
    "    yh = data[\"top_1\"]\n",
    "    y = data[\"targets\"]\n",
    "    \n",
    "    yhs.extend(yh)\n",
    "    ys.extend(y)"
   ]
  },
  {
   "cell_type": "code",
   "execution_count": 163,
   "id": "accredited-substance",
   "metadata": {},
   "outputs": [],
   "source": [
    "syllables = unique_labels(ys)\n",
    "cm = metrics.confusion_matrix(ys, yhs, labels=syllables, normalize=\"true\")"
   ]
  },
  {
   "cell_type": "code",
   "execution_count": 164,
   "id": "lovely-syracuse",
   "metadata": {},
   "outputs": [
    {
     "name": "stderr",
     "output_type": "stream",
     "text": [
      "<ipython-input-116-b43afc7d63a4>:32: UserWarning: This figure includes Axes that are not compatible with tight_layout, so results might be incorrect.\n",
      "  plt.tight_layout()\n"
     ]
    },
    {
     "data": {
      "image/png": "[encoded data removed]",
      "text/plain": [
       "<Figure size 504x504 with 2 Axes>"
      ]
     },
     "metadata": {
      "needs_background": "light"
     },
     "output_type": "display_data"
    }
   ],
   "source": [
    "fig = confusion(cm, syllables)\n",
    "fig.savefig(\"../figures/esn-confusion.pdf\")\n",
    "fig.savefig(\"../figures/esn-confusion.png\")"
   ]
  },
  {
   "cell_type": "code",
   "execution_count": 165,
   "id": "fatal-prince",
   "metadata": {},
   "outputs": [],
   "source": [
    "f1 = metrics.f1_score(ys, yhs, average=\"macro\")"
   ]
  },
  {
   "cell_type": "code",
   "execution_count": 166,
   "id": "native-briefing",
   "metadata": {},
   "outputs": [
    {
     "data": {
      "text/plain": [
       "0.8775507157980319"
      ]
     },
     "execution_count": 166,
     "metadata": {},
     "output_type": "execute_result"
    }
   ],
   "source": [
    "f1"
   ]
  },
  {
   "cell_type": "markdown",
   "id": "controversial-amsterdam",
   "metadata": {},
   "source": [
    "## ESN time"
   ]
  },
  {
   "cell_type": "code",
   "execution_count": 78,
   "id": "signal-carrier",
   "metadata": {},
   "outputs": [],
   "source": [
    "time_files = glob.glob(\"../reports/marron1/esn-3/cv/*/duration*\")"
   ]
  },
  {
   "cell_type": "code",
   "execution_count": 79,
   "id": "chemical-tobago",
   "metadata": {},
   "outputs": [],
   "source": [
    "all_durations = []\n",
    "for m in time_files:\n",
    "    with open(m, \"r\") as fp:\n",
    "        all_durations.append(json.load(fp)[\"duration\"])"
   ]
  },
  {
   "cell_type": "code",
   "execution_count": 80,
   "id": "sized-pointer",
   "metadata": {},
   "outputs": [
    {
     "data": {
      "text/plain": [
       "(35.257997450828555, 1.0761012842977704)"
      ]
     },
     "execution_count": 80,
     "metadata": {},
     "output_type": "execute_result"
    }
   ],
   "source": [
    "dur = np.mean(all_durations)\n",
    "std_dur = np.std(all_durations)\n",
    "dur, std_dur"
   ]
  },
  {
   "cell_type": "markdown",
   "id": "behind-above",
   "metadata": {},
   "source": [
    "# Reduced training dataset"
   ]
  },
  {
   "cell_type": "code",
   "execution_count": 17,
   "id": "yellow-victory",
   "metadata": {},
   "outputs": [],
   "source": [
    "lstm_rfiles = []\n",
    "esn_rfiles = []\n",
    "for i in [5, 10, 20, 30, 50, 70]:\n",
    "    lstm_rfiles.append(glob.glob(f\"../reports/marron1/lstm-2/reduced/{i}/metrics-[0-9].json\"))\n",
    "    esn_rfiles.append(glob.glob(f\"../reports/marron1/esn-4/reduced/{i}/metrics-[0-9][0-9].json\") + \n",
    "                      glob.glob(f\"../reports/marron1/esn-4/reduced/{i}/metrics-[0-9].json\"))\n",
    "\n",
    "lstm_trfiles = []\n",
    "esn_trfiles = []\n",
    "for i in [5, 10, 20, 30, 50, 70]:\n",
    "    lstm_trfiles.append(glob.glob(f\"../reports/marron1/lstm-2/reduced/{i}/metrics-train-[0-9].json\"))\n",
    "    esn_trfiles.append(glob.glob(f\"../reports/marron1/esn-4/reduced/{i}/metrics-train-[0-9][0-9].json\") + \n",
    "                      glob.glob(f\"../reports/marron1/esn-4/reduced/{i}/metrics-train-[0-9].json\"))\n",
    "    \n",
    "esn_time_files = glob.glob(\"../reports/marron1/esn-4/reduced/*/duration*\")\n",
    "lstm_time_files = glob.glob(\"../reports/marron1/lstm-2/reduced/*/duration*\")\n",
    "\n",
    "esn_time_files = sorted(esn_time_files, key=lambda x: int(Path(x).parent.stem))\n",
    "lstm_time_files = sorted(lstm_time_files, key=lambda x: int(Path(x).parent.stem))\n",
    "\n",
    "\n",
    "lstm_pred_files = []\n",
    "esn_pred_files = []\n",
    "for i in [5, 10, 20, 30, 50, 70]:\n",
    "    lstm_pred_files.append(glob.glob(f\"../reports/marron1/lstm-2/reduced/{i}/preds-[0-9]/*.npz\"))\n",
    "    esn_pred_files.append(glob.glob(f\"../reports/marron1/esn-4/reduced/{i}/preds-[0-9][0-9]/.*.npz\") + \n",
    "                      glob.glob(f\"../reports/marron1/esn-4/reduced/{i}/preds-[0-9]/*.npz\"))"
   ]
  },
  {
   "cell_type": "code",
   "execution_count": 18,
   "id": "extensive-glucose",
   "metadata": {},
   "outputs": [],
   "source": [
    "y_lstm = []\n",
    "yh_lstm = []\n",
    "for red in lstm_pred_files:\n",
    "    y_red = []\n",
    "    yh_red = []\n",
    "    for m in red:\n",
    "        data = np.load(m)\n",
    "        y = data[\"targets\"]\n",
    "        yh = data[\"top_1\"]\n",
    "        yh_red.append(yh)\n",
    "        y_red.append(y)\n",
    "    y_lstm.append(y_red)\n",
    "    yh_lstm.append(yh_red)\n",
    "\n",
    "y_esn = []\n",
    "yh_esn = []\n",
    "for red in esn_pred_files:\n",
    "    y_red = []\n",
    "    yh_red = []\n",
    "    for m in red:\n",
    "        data = np.load(m)\n",
    "        y = data[\"targets\"]\n",
    "        yh = data[\"top_1\"]\n",
    "        yh_red.append(yh)\n",
    "        y_red.append(y)\n",
    "    y_esn.append(y_red)\n",
    "    yh_esn.append(yh_red)"
   ]
  },
  {
   "cell_type": "code",
   "execution_count": 19,
   "id": "standing-advocate",
   "metadata": {},
   "outputs": [],
   "source": [
    "durations = []\n",
    "for y_red in y_esn:\n",
    "    dur = []\n",
    "    for yy in y_red:\n",
    "        dur.append(len(yy) * 512 / 44100)\n",
    "    durations.append(np.sum(dur))"
   ]
  },
  {
   "cell_type": "code",
   "execution_count": 20,
   "id": "minor-talent",
   "metadata": {},
   "outputs": [
    {
     "data": {
      "text/plain": [
       "6"
      ]
     },
     "execution_count": 20,
     "metadata": {},
     "output_type": "execute_result"
    }
   ],
   "source": [
    "len(y_esn)"
   ]
  },
  {
   "cell_type": "code",
   "execution_count": 21,
   "id": "alternate-render",
   "metadata": {},
   "outputs": [
    {
     "name": "stderr",
     "output_type": "stream",
     "text": [
      "100%|██████████| 460/460 [00:04<00:00, 111.54it/s]\n",
      "100%|██████████| 460/460 [00:03<00:00, 143.56it/s]\n",
      "100%|██████████| 460/460 [00:02<00:00, 193.66it/s]\n",
      "100%|██████████| 460/460 [00:02<00:00, 214.44it/s]\n",
      "100%|██████████| 460/460 [00:02<00:00, 219.21it/s]\n",
      "100%|██████████| 460/460 [00:01<00:00, 234.72it/s]\n"
     ]
    }
   ],
   "source": [
    "lstm_wers = []\n",
    "for y_red, yh_red in zip(y_lstm, yh_lstm):\n",
    "    red_wer = []\n",
    "    for yy, yyh in zip(tqdm(y_red), yh_red):\n",
    "        yh = group(yy, exclude=(\"SIL\", \"TRASH\", \"cri\"))\n",
    "        yhlbl = [u[0] for u in yh]\n",
    "        y = group(yyh, exclude=(\"SIL\", \"TRASH\", \"cri\"))\n",
    "        ylbl = [u[0] for u in y]\n",
    "        red_wer.append(word_error_rate(ylbl, yhlbl))\n",
    "    lstm_wers.append(red_wer)"
   ]
  },
  {
   "cell_type": "code",
   "execution_count": 22,
   "id": "junior-diana",
   "metadata": {},
   "outputs": [
    {
     "name": "stderr",
     "output_type": "stream",
     "text": [
      "100%|██████████| 920/920 [00:03<00:00, 237.39it/s]\n",
      "100%|██████████| 920/920 [00:03<00:00, 263.73it/s]\n",
      "100%|██████████| 920/920 [00:02<00:00, 308.41it/s]\n",
      "100%|██████████| 920/920 [00:02<00:00, 316.62it/s]\n",
      "100%|██████████| 920/920 [00:02<00:00, 320.31it/s]\n",
      "100%|██████████| 920/920 [00:02<00:00, 318.59it/s]\n"
     ]
    }
   ],
   "source": [
    "esn_wers = []\n",
    "for y_red, yh_red in zip(y_esn, yh_esn):\n",
    "    red_wer = []\n",
    "    for yy, yyh in zip(tqdm(y_red), yh_red):\n",
    "        yh = group(yy, exclude=(\"SIL\", \"TRASH\", \"cri\"))\n",
    "        yhlbl = [u[0] for u in yh]\n",
    "        y = group(yyh, exclude=(\"SIL\", \"TRASH\", \"cri\"))\n",
    "        ylbl = [u[0] for u in y]\n",
    "        red_wer.append(word_error_rate(ylbl, yhlbl))\n",
    "    esn_wers.append(red_wer)"
   ]
  },
  {
   "cell_type": "code",
   "execution_count": 23,
   "id": "individual-operation",
   "metadata": {},
   "outputs": [],
   "source": [
    "lstm_wer_means = []\n",
    "lstm_wer_stds = []\n",
    "for red_wers in lstm_wers:\n",
    "    lstm_wer_means.append(np.mean(red_wers))\n",
    "    lstm_wer_stds.append(np.std(red_wers))\n",
    "\n",
    "esn_wer_means = []\n",
    "esn_wer_stds = []\n",
    "for red_wers in esn_wers:\n",
    "    esn_wer_means.append(np.mean(red_wers))\n",
    "    esn_wer_stds.append(np.std(red_wers))"
   ]
  },
  {
   "cell_type": "code",
   "execution_count": 24,
   "id": "lasting-proposition",
   "metadata": {},
   "outputs": [
    {
     "ename": "NameError",
     "evalue": "name 'esn_global_mean_wer' is not defined",
     "output_type": "error",
     "traceback": [
      "\u001b[0;31m---------------------------------------------------------------------------\u001b[0m",
      "\u001b[0;31mNameError\u001b[0m                                 Traceback (most recent call last)",
      "\u001b[0;32m<ipython-input-24-d7754b7e5e27>\u001b[0m in \u001b[0;36m<module>\u001b[0;34m\u001b[0m\n\u001b[0;32m----> 1\u001b[0;31m \u001b[0mesn_wer_means\u001b[0m\u001b[0;34m.\u001b[0m\u001b[0mappend\u001b[0m\u001b[0;34m(\u001b[0m\u001b[0mesn_global_mean_wer\u001b[0m\u001b[0;34m)\u001b[0m\u001b[0;34m\u001b[0m\u001b[0;34m\u001b[0m\u001b[0m\n\u001b[0m\u001b[1;32m      2\u001b[0m \u001b[0mesn_wer_stds\u001b[0m\u001b[0;34m.\u001b[0m\u001b[0mappend\u001b[0m\u001b[0;34m(\u001b[0m\u001b[0mesn_global_std_wer\u001b[0m\u001b[0;34m)\u001b[0m\u001b[0;34m\u001b[0m\u001b[0;34m\u001b[0m\u001b[0m\n\u001b[1;32m      3\u001b[0m \u001b[0;34m\u001b[0m\u001b[0m\n\u001b[1;32m      4\u001b[0m \u001b[0mlstm_wer_means\u001b[0m\u001b[0;34m.\u001b[0m\u001b[0mappend\u001b[0m\u001b[0;34m(\u001b[0m\u001b[0mlstm_global_mean_wer\u001b[0m\u001b[0;34m)\u001b[0m\u001b[0;34m\u001b[0m\u001b[0;34m\u001b[0m\u001b[0m\n\u001b[1;32m      5\u001b[0m \u001b[0mlstm_wer_stds\u001b[0m\u001b[0;34m.\u001b[0m\u001b[0mappend\u001b[0m\u001b[0;34m(\u001b[0m\u001b[0mlstm_global_std_wer\u001b[0m\u001b[0;34m)\u001b[0m\u001b[0;34m\u001b[0m\u001b[0;34m\u001b[0m\u001b[0m\n",
      "\u001b[0;31mNameError\u001b[0m: name 'esn_global_mean_wer' is not defined"
     ]
    }
   ],
   "source": [
    "esn_wer_means.append(esn_global_mean_wer)\n",
    "esn_wer_stds.append(esn_global_std_wer)\n",
    "\n",
    "lstm_wer_means.append(lstm_global_mean_wer)\n",
    "lstm_wer_stds.append(lstm_global_std_wer)"
   ]
  },
  {
   "cell_type": "code",
   "execution_count": null,
   "id": "demonstrated-reservoir",
   "metadata": {},
   "outputs": [],
   "source": [
    "durations = np.load('../durations.npy') * 512 / 44100\n",
    "\n",
    "tr_duration = np.load(\"../train-duration.npy\") * 512 / 44100\n",
    "te_duration = np.load(\"../test-duration.npy\") * 512 / 41000"
   ]
  },
  {
   "cell_type": "code",
   "execution_count": null,
   "id": "southern-musical",
   "metadata": {},
   "outputs": [],
   "source": [
    "mean_durations = np.round(np.mean(durations, axis=1)).astype(int).tolist()\n",
    "mean_durations += [round(tr_duration)]\n",
    "std_durations = np.round(np.std(durations, axis=1))\n",
    "std_durations, mean_durations"
   ]
  },
  {
   "cell_type": "code",
   "execution_count": null,
   "id": "chief-vinyl",
   "metadata": {},
   "outputs": [],
   "source": [
    "str(datetime.timedelta(seconds=1813)), str(datetime.timedelta(seconds=87))"
   ]
  },
  {
   "cell_type": "code",
   "execution_count": null,
   "id": "sexual-moore",
   "metadata": {},
   "outputs": [],
   "source": [
    "fig, (ax1, ax2) = plt.subplots(1, 2, figsize=(4.8, 2.4), sharey=True)\n",
    "\n",
    "x = [5, 10, 20, 30, 50, 70, 368]\n",
    "\n",
    "ax1.grid()\n",
    "ax2.grid()\n",
    "\n",
    "ax1.plot(x, lstm_wer_means, label=\"LSTM\", color=\"red\", lw=1, marker=\"^\", markersize=5)\n",
    "ax1.fill_between(x, np.array(lstm_wer_means) - np.array(lstm_wer_stds), \n",
    "                 np.array(lstm_wer_means) + np.array(lstm_wer_stds), alpha=0.2)\n",
    "\n",
    "ax1.plot(x, esn_wer_means, color=\"blue\", marker=\"o\", lw=1, markersize=5)\n",
    "ax1.fill_between(x, np.array(esn_wer_means) - np.array(esn_wer_stds), \n",
    "                 np.array(esn_wer_means) + np.array(esn_wer_stds), alpha=0.2)\n",
    "\n",
    "ax2.plot(x, lstm_wer_means, label=\"LSTM\", color=\"red\", lw=1, marker=\"^\", markersize=5)\n",
    "ax2.fill_between(x, np.array(lstm_wer_means) - np.array(lstm_wer_stds), \n",
    "                 np.array(lstm_wer_means) + np.array(lstm_wer_stds), alpha=0.2)\n",
    "\n",
    "\n",
    "ax2.plot(x, esn_wer_means, color=\"blue\", label=\"ESN\", marker=\"o\", lw=1, markersize=5)\n",
    "ax2.fill_between(x, np.array(esn_wer_means) - np.array(esn_wer_stds), \n",
    "                 np.array(esn_wer_means) + np.array(esn_wer_stds), alpha=0.2)\n",
    "\n",
    "ax1.set_xlim(0, 73) \n",
    "ax2.set_xlim(367, 368.1) \n",
    "\n",
    "ax1.set_ylim(0, 0.8)\n",
    "\n",
    "ax1.set_xticks([5, 20, 50, 70])\n",
    "ax1.set_xticklabels([mean_durations[i] for i in [0, 2, 4, 5]])\n",
    "ax2.set_xticks([368])\n",
    "ax2.set_xticklabels([mean_durations[-1]])\n",
    "\n",
    "ax1.set_yticks(np.array([0.05, 0.15, 0.25, 0.35, 0.45, 0.55, 0.65, 0.75]))\n",
    "\n",
    "ax1.spines[\"right\"].set_visible(False)\n",
    "ax2.spines[\"left\"].set_visible(False)\n",
    "\n",
    "kwargs = dict(marker=[(-1, -d), (1, d)], markersize=12,\n",
    "              linestyle=\"none\", color='k', mec='k', mew=1, clip_on=False)\n",
    "ax1.plot([1, 1], [0, 1], transform=ax1.transAxes, **kwargs)\n",
    "ax2.plot([0, 0], [0, 1], transform=ax2.transAxes, **kwargs)\n",
    "\n",
    "ax1.set_ylabel(\"WER\", size=11)\n",
    "ax1.set_xlabel(\"Training set (sec)\", size=11)\n",
    "ax2.set_xlabel(\"All train songs (sec)\", size=11)\n",
    "\n",
    "ax1.tick_params(which=\"both\", axis=\"both\", labelsize=10)\n",
    "ax2.tick_params(which=\"both\", axis=\"both\", labelsize=10)\n",
    "\n",
    "fig.tight_layout()\n",
    "\n",
    "ax2.legend(fontsize=8)\n",
    "\n",
    "fig.savefig(\"../figures/reduced_song_wer.pdf\")\n",
    "fig.savefig(\"../figures/reduced_song_wer.png\")"
   ]
  },
  {
   "cell_type": "code",
   "execution_count": null,
   "id": "useful-throw",
   "metadata": {},
   "outputs": [],
   "source": [
    "te_duration"
   ]
  },
  {
   "cell_type": "code",
   "execution_count": null,
   "id": "complete-injury",
   "metadata": {},
   "outputs": [],
   "source": [
    "str(datetime.timedelta(seconds=2495))"
   ]
  },
  {
   "cell_type": "code",
   "execution_count": null,
   "id": "computational-pulse",
   "metadata": {},
   "outputs": [],
   "source": [
    "lstm_rmet = []\n",
    "for red in lstm_rfiles:\n",
    "    red_mets = []\n",
    "    for m in red:\n",
    "        with open(m, \"r\") as fp:\n",
    "            red_mets.append(json.load(fp))\n",
    "    lstm_rmet.append(red_mets)\n",
    "\n",
    "lstm_trmet = []\n",
    "for red in lstm_trfiles:\n",
    "    red_mets = []\n",
    "    for m in red:\n",
    "        with open(m, \"r\") as fp:\n",
    "            red_mets.append(json.load(fp))\n",
    "    lstm_trmet.append(red_mets)\n",
    "            \n",
    "esn_rmet = []\n",
    "for red in esn_rfiles:\n",
    "    red_mets = []\n",
    "    for m in red:\n",
    "        with open(m, \"r\") as fp:\n",
    "            red_mets.append(json.load(fp))\n",
    "    esn_rmet.append(red_mets)\n",
    "            \n",
    "esn_trmet = []\n",
    "for red in esn_trfiles:\n",
    "    red_mets = []\n",
    "    for m in red:\n",
    "        with open(m, \"r\") as fp:\n",
    "            red_mets.append(json.load(fp))\n",
    "    esn_trmet.append(red_mets)\n",
    "    \n",
    "\n",
    "lstm_times = []\n",
    "for dur in lstm_time_files:\n",
    "    with open(dur, \"r\") as fp:\n",
    "        lstm_times.append(json.load(fp)[\"duration\"])\n",
    "    \n",
    "esn_times = []\n",
    "for dur in esn_time_files:\n",
    "    with open(dur, \"r\") as fp:\n",
    "        esn_times.append(json.load(fp)[\"duration\"])"
   ]
  },
  {
   "cell_type": "code",
   "execution_count": 345,
   "id": "equal-connection",
   "metadata": {},
   "outputs": [],
   "source": [
    "lstm_accs = []\n",
    "lstm_stds = []\n",
    "for red in lstm_rmet:\n",
    "    accs = []\n",
    "    stds = []\n",
    "    for met in red:\n",
    "        accs.append(np.mean([m[\"accuracy\"] for m in met.values()]))\n",
    "        stds.append(np.std([m[\"accuracy\"] for m in met.values()]))\n",
    "    lstm_accs.append(np.mean(accs))\n",
    "    lstm_stds.append(np.mean(stds))\n",
    "    \n",
    "lstm_taccs = []\n",
    "lstm_tstds = []\n",
    "for red in lstm_trmet:\n",
    "    accs = []\n",
    "    stds = []\n",
    "    for met in red:\n",
    "        accs.append(np.mean([m[\"accuracy\"] for m in met.values()]))\n",
    "        stds.append(np.std([m[\"accuracy\"] for m in met.values()]))\n",
    "    lstm_taccs.append(np.mean(accs))\n",
    "    lstm_tstds.append(np.mean(stds))\n",
    "\n",
    "esn_accs = []\n",
    "esn_stds = []\n",
    "for red in esn_rmet:\n",
    "    accs = []\n",
    "    stds = []\n",
    "    for met in red:\n",
    "        accs.append(np.mean([m[\"accuracy\"] for m in met.values()]))\n",
    "        stds.append(np.std([m[\"accuracy\"] for m in met.values()]))\n",
    "    esn_accs.append(np.mean(accs))\n",
    "    esn_stds.append(np.mean(stds))\n",
    "    \n",
    "esn_taccs = []\n",
    "esn_tstds = []\n",
    "for red in esn_trmet:\n",
    "    accs = []\n",
    "    stds = []\n",
    "    for met in red:\n",
    "        accs.append(np.mean([m[\"accuracy\"] for m in met.values()]))\n",
    "        stds.append(np.std([m[\"accuracy\"] for m in met.values()]))\n",
    "    esn_taccs.append(np.mean(accs))\n",
    "    esn_tstds.append(np.mean(stds))\n",
    "\n",
    "x = [5, 10, 20, 30, 50, 70]"
   ]
  },
  {
   "cell_type": "code",
   "execution_count": 347,
   "id": "declared-meditation",
   "metadata": {},
   "outputs": [
    {
     "data": {
      "image/png": "[encoded data removed]",
      "text/plain": [
       "<Figure size 345.6x172.8 with 2 Axes>"
      ]
     },
     "metadata": {
      "needs_background": "light"
     },
     "output_type": "display_data"
    }
   ],
   "source": [
    "fig = plt.figure(figsize=(4.8, 2.4))\n",
    "\n",
    "ax = fig.add_subplot(122)\n",
    "axt = fig.add_subplot(121)\n",
    "\n",
    "ax.plot(x, lstm_accs, label=\"LSTM\", color=\"red\", lw=1, marker=\"^\", markersize=5)\n",
    "ax.fill_between(x, np.array(lstm_accs) - np.array(lstm_stds), \n",
    "                 np.array(lstm_accs) + np.array(lstm_stds), alpha=0.2)\n",
    "#ax.errorbar(x, lstm_accs, lstm_stds, color=\"red\")\n",
    "\n",
    "axt.plot(x, lstm_taccs, label=\"LSTM\", color=\"red\", lw=1, marker=\"^\", markersize=5)\n",
    "axt.fill_between(x, np.array(lstm_taccs) - np.array(lstm_tstds), \n",
    "                 np.array(lstm_taccs) + np.array(lstm_tstds), alpha=0.2)\n",
    "#axt.errorbar(x, lstm_taccs, lstm_tstds, linestyle=\"--\", color=\"red\", marker=\"^\")\n",
    "\n",
    "\n",
    "ax.plot(x, esn_accs, color=\"blue\", marker=\"o\", lw=1, markersize=5)\n",
    "ax.fill_between(x, np.array(esn_accs) - np.array(esn_stds), \n",
    "                 np.array(esn_accs) + np.array(esn_stds), alpha=0.2)\n",
    "#ax.errorbar(x, esn_accs, esn_stds, color=\"blue\")\n",
    "\n",
    "axt.plot(x, esn_taccs, label=\"ESN\", color=\"blue\", lw=1, marker=\"o\", markersize=5)\n",
    "axt.fill_between(x, np.array(esn_taccs) - np.array(esn_tstds), \n",
    "                 np.array(esn_taccs) + np.array(esn_tstds), alpha=0.2)\n",
    "#axt.errorbar(x, esn_taccs, esn_tstds, color=\"blue\", linestyle=\"--\")\n",
    "\n",
    "\n",
    "ax.set_xticks([5, 20, 50, 70])\n",
    "ax.set_xticklabels([mean_durations[i] for i in [0, 2, 4, 5]])\n",
    "ax.set_yticks([0.70, 0.75, 0.80, 0.85, 0.9, 0.95, 1.0])\n",
    "ax.tick_params(which=\"both\", axis=\"both\", labelsize=10)\n",
    "ax.set_xlabel(\"Training set (sec)\", size=11)\n",
    "ax.set_title(\"Test\", size=11)\n",
    "ax.grid()\n",
    "\n",
    "\n",
    "axt.set_xticks([5, 20, 50, 70])\n",
    "axt.set_xticklabels([mean_durations[i] for i in [0, 2, 4, 5]])\n",
    "axt.set_yticks([0.70, 0.75, 0.80, 0.85, 0.9, 0.95, 1.0])\n",
    "axt.tick_params(which=\"both\", axis=\"both\", labelsize=10)\n",
    "axt.set_title(\"Training\", size=11)\n",
    "axt.set_ylabel(\"ACC\", size=11)\n",
    "axt.set_xlabel(\"Training set (sec)\", size=11)\n",
    "axt.grid()\n",
    "\n",
    "axt.legend(fontsize=8)\n",
    "\n",
    "#axt.legend(bbox_to_anchor=[-1, -0.6, 0., 0.], ncol=2, fontsize=10)\n",
    "\n",
    "axt.set_ylim(0.80, 1)\n",
    "ax.set_ylim(0.80, 1)\n",
    "\n",
    "fig.tight_layout()\n",
    "\n",
    "fig.savefig(\"../figures/reduced_song_training.pdf\")\n",
    "fig.savefig(\"../figures/reduced_song_training.png\")"
   ]
  },
  {
   "cell_type": "markdown",
   "id": "interior-webster",
   "metadata": {},
   "source": [
    "# Output example"
   ]
  },
  {
   "cell_type": "code",
   "execution_count": 85,
   "id": "weekly-sacramento",
   "metadata": {},
   "outputs": [],
   "source": [
    "lstm_preds_files = glob.glob(\"../reports/marron1/lstm-2/cv/*/preds-2/*.npz\")\n",
    "esn_preds_files = glob.glob(\"../reports/marron1/esn-3/cv/*/preds-2/*.npz\")"
   ]
  },
  {
   "cell_type": "code",
   "execution_count": 86,
   "id": "governmental-ticket",
   "metadata": {},
   "outputs": [],
   "source": [
    "def get_wave_name(file):\n",
    "    return Path(file).stem\n",
    "\n",
    "lstm_preds_files = sorted(lstm_preds_files, key=get_wave_name)\n",
    "esn_preds_files = sorted(esn_preds_files, key=get_wave_name)\n",
    "\n",
    "lstm_waves = [get_wave_name(f) for f in lstm_preds_files]\n",
    "esn_waves = [get_wave_name(f) for f in esn_preds_files]"
   ]
  },
  {
   "cell_type": "code",
   "execution_count": 87,
   "id": "coated-grave",
   "metadata": {},
   "outputs": [],
   "source": [
    "matches = [w for w in esn_waves if w in lstm_waves]\n",
    "matches\n",
    "\n",
    "lstm_preds_files = [f for f in lstm_preds_files if get_wave_name(f) in matches]\n",
    "esn_preds_files = [f for f in esn_preds_files if get_wave_name(f) in matches]"
   ]
  },
  {
   "cell_type": "code",
   "execution_count": 88,
   "id": "upset-render",
   "metadata": {},
   "outputs": [
    {
     "data": {
      "image/png": "[encoded data removed]",
      "text/plain": [
       "<Figure size 720x360 with 4 Axes>"
      ]
     },
     "metadata": {},
     "output_type": "display_data"
    }
   ],
   "source": [
    "area = slice(850, 1150)\n",
    "idx = 10\n",
    "wave_file = matches[idx]\n",
    "lpreds = np.load(lstm_preds_files[idx])\n",
    "epreds = np.load(esn_preds_files[idx])\n",
    "\n",
    "etarg = epreds[\"targets\"]\n",
    "ltarg = lpreds[\"targets\"]\n",
    "\n",
    "etop = epreds[\"top_1\"]\n",
    "ltop = lpreds[\"top_1\"]\n",
    "\n",
    "epred = epreds[\"pred\"]\n",
    "lpred = lpreds[\"pred\"]\n",
    "\n",
    "fig = plt.figure(figsize=(10, 5))\n",
    "\n",
    "ax = fig.add_subplot(221)\n",
    "\n",
    "wave = np.load(f\"../data/processed/8kHz-13mfcc-2/marron1/{wave_file}.npz\")[\"wave\"]\n",
    "spec = lbr.amplitude_to_db(np.abs(lbr.stft(\n",
    "    wave, hop_length=512, win_length=1024, n_fft=2048)))\n",
    "\n",
    "ax.imshow(spec[25:408, area], origin=\"lower\", aspect=\"auto\")\n",
    "\n",
    "ax.set_xticks([])\n",
    "ax.set_yticks([25, 408 - 25])\n",
    "ax.set_yticklabels([\"500Hz\", \"8kHz\"])\n",
    "\n",
    "\n",
    "ax3 = fig.add_subplot(222)\n",
    "ax3.imshow(lpred[-epred.shape[0]:][area].T, aspect=\"auto\", origin=\"lower\", interpolation=\"nearest\")\n",
    "ax3.set_xticks([])\n",
    "ax3.set_yticks([0, 5, 8, 15, 16, 21, 22])\n",
    "ax3.set_yticklabels([\"A\", \"D\", \"I\", \"M\", \"N\", \"S\", \"SIL\"], size=10)\n",
    "ax3.spines[\"top\"].set_visible(False)\n",
    "ax3.spines[\"bottom\"].set_visible(False)\n",
    "ax3.spines[\"left\"].set_visible(False)\n",
    "ax3.spines[\"right\"].set_visible(False)\n",
    "\n",
    "for y in [0, 5, 8, 15, 16, 21, 22]:\n",
    "    ax3.axhline(y, color=\"gray\", lw=1, linestyle=\"--\")\n",
    "\n",
    "ax4 = fig.add_subplot(224)\n",
    "ax4.imshow(epred[area].T, aspect=\"auto\", origin=\"lower\", interpolation=\"nearest\")\n",
    "ax4.set_xticks([])\n",
    "ax4.set_yticks([0, 5, 8, 15, 16, 21, 22])\n",
    "ax4.set_yticklabels([\"A\", \"D\", \"I\", \"M\", \"N\", \"S\", \"SIL\"], size=10)\n",
    "ax4.spines[\"top\"].set_visible(False)\n",
    "ax4.spines[\"bottom\"].set_visible(False)\n",
    "ax4.spines[\"left\"].set_visible(False)\n",
    "ax4.spines[\"right\"].set_visible(False)\n",
    "\n",
    "for y in [0, 5, 8, 15, 16, 21, 22]:\n",
    "    ax4.axhline(y, color=\"gray\", lw=1, linestyle=\"--\")\n",
    "\n",
    "ax2 = fig.add_subplot(223)\n",
    "ax2.set_ylim(-0.5, 1.5)\n",
    "\n",
    "palette = itertools.cycle(plt.get_cmap(\"tab10\").colors)\n",
    "colors = {\"SIL\": \"white\"}\n",
    "\n",
    "cursor = 0\n",
    "for k, seq in itertools.groupby(etarg[area]):\n",
    "    c = colors.get(k, next(palette))\n",
    "    colors[k] = c\n",
    "    length = len(list(seq))\n",
    "    \n",
    "    ax2.hlines(1, cursor, cursor + length, color=c, lw=10)\n",
    "    \n",
    "    if k != \"SIL\":\n",
    "        ax2.text(cursor + length / 2, 1.2, k, color=c, size=12, fontweight=\"bold\")\n",
    "\n",
    "        ax.axvline(cursor, color=\"white\", linestyle=\"--\", lw=1)\n",
    "        ax.axvline(cursor + length, color=\"white\", linestyle=\"--\", lw=1)\n",
    "    \n",
    "        ax.hlines(1, cursor, cursor + length, color=c, lw=10)\n",
    "    \n",
    "    cursor += length\n",
    "    \n",
    "cursor = 0\n",
    "for k, seq in itertools.groupby(ltop[area]):\n",
    "    c = colors.get(k, next(palette))\n",
    "    colors[k] = c\n",
    "    length = len(list(seq))\n",
    "    \n",
    "    if k != \"SIL\":\n",
    "        ax2.text(cursor + length / 2, 0.7, k, color=c, size=12, fontweight=\"bold\")\n",
    "\n",
    "    \n",
    "    ax2.hlines(0.5, cursor, cursor + length, color=c, lw=10)\n",
    "\n",
    "    ax3.hlines(-1, cursor, cursor + length, color=c, lw=5)\n",
    "    \n",
    "    cursor += length\n",
    "    \n",
    "    \n",
    "cursor = 0\n",
    "for k, seq in itertools.groupby(etop[area]):\n",
    "    c = colors.get(k, next(palette))\n",
    "    colors[k] = c\n",
    "    length = len(list(seq))\n",
    "    \n",
    "        \n",
    "    if k != \"SIL\":\n",
    "        ax2.text(cursor + length / 2, 0.2, k, color=c, size=12, fontweight=\"bold\")\n",
    "    \n",
    "    ax2.hlines(0, cursor, cursor + length, color=c, lw=10)\n",
    "\n",
    "    ax4.hlines(-1, cursor, cursor + length, color=c, lw=5)\n",
    "    \n",
    "    cursor += length\n",
    "\n",
    "ax2.spines[\"top\"].set_visible(False)\n",
    "ax2.spines[\"bottom\"].set_visible(False)\n",
    "ax2.spines[\"left\"].set_visible(False)\n",
    "ax2.spines[\"right\"].set_visible(False)\n",
    "ax2.set_xticks([])\n",
    "ax2.set_yticks([1, 0.5, 0])\n",
    "ax2.set_yticklabels([\"Target\", \"LSTM\", \"ESN\"])\n",
    "\n",
    "colors[\"SIL\"] = \"black\"\n",
    "[label.set_color(colors[k]) for k, label in zip([\"A\", \"D\", \"I\", \"M\", \"N\", \"S\", \"SIL\"], ax3.get_yticklabels())]\n",
    "[label.set_color(colors[k]) for k, label in zip([\"A\", \"D\", \"I\", \"M\", \"N\", \"S\", \"SIL\"], ax4.get_yticklabels())]\n",
    "\n",
    "\n",
    "ax.text(-20, 350, \"$\\mathbf{A}$\", size=14)\n",
    "ax2.text(-20, 1.5, \"$\\mathbf{B}$\", size=14)\n",
    "ax3.text(-20, 27, \"$\\mathbf{C}$\", size=14)\n",
    "ax4.text(-20, 27, \"$\\mathbf{D}$\", size=14)\n",
    "\n",
    "plt.tight_layout()\n",
    "\n",
    "fig.savefig(\"../figures/outputs.pdf\")\n",
    "fig.savefig(\"../figures/outputs.png\")"
   ]
  },
  {
   "cell_type": "code",
   "execution_count": null,
   "id": "million-protocol",
   "metadata": {},
   "outputs": [],
   "source": []
  },
  {
   "cell_type": "code",
   "execution_count": null,
   "id": "stainless-blank",
   "metadata": {},
   "outputs": [],
   "source": []
  }
 ],
 "metadata": {
  "kernelspec": {
   "display_name": "Python 3",
   "language": "python",
   "name": "python3"
  },
  "language_info": {
   "codemirror_mode": {
    "name": "ipython",
    "version": 3
   },
   "file_extension": ".py",
   "mimetype": "text/x-python",
   "name": "python",
   "nbconvert_exporter": "python",
   "pygments_lexer": "ipython3",
   "version": "3.8.5"
  }
 },
 "nbformat": 4,
 "nbformat_minor": 5
}
